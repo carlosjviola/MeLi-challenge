{
  "nbformat": 4,
  "nbformat_minor": 0,
  "metadata": {
    "colab": {
      "provenance": [],
      "mount_file_id": "1Eue_90hUUc_LUhrMg5B0YVrjG9WKpeLs",
      "authorship_tag": "ABX9TyOQHmFpgCSAAA3pxH65BGtj",
      "include_colab_link": true
    },
    "kernelspec": {
      "name": "python3",
      "display_name": "Python 3"
    },
    "language_info": {
      "name": "python"
    }
  },
  "cells": [
    {
      "cell_type": "markdown",
      "metadata": {
        "id": "view-in-github",
        "colab_type": "text"
      },
      "source": [
        "<a href=\"https://colab.research.google.com/github/carlosjviola/MeLi-challenge/blob/main/MeLi_challenge.ipynb\" target=\"_parent\"><img src=\"https://colab.research.google.com/assets/colab-badge.svg\" alt=\"Open In Colab\"/></a>"
      ]
    },
    {
      "cell_type": "markdown",
      "source": [
        "**MeLi** - Data Visualization & Analytics Challenge\n",
        "\n",
        "Carlos José Viola - 2022/11 \n",
        "\n",
        "[Ver especificaciones](https://drive.google.com/file/d/1CTPIC5OIZ58joVDMG9AYAEecKTCsRtlc/view?usp=share_link)"
      ],
      "metadata": {
        "id": "fFbJS44Qgzq4"
      }
    },
    {
      "cell_type": "markdown",
      "source": [
        "**#Creamos un DataFrame de Pandas para analizar el archivo**"
      ],
      "metadata": {
        "id": "URH8892Pvd69"
      }
    },
    {
      "cell_type": "code",
      "execution_count": 1,
      "metadata": {
        "id": "pHjjQL1_uhsi",
        "colab": {
          "base_uri": "https://localhost:8080/"
        },
        "outputId": "fbae5f07-9314-4bfc-d61d-6c53c913f0a6"
      },
      "outputs": [
        {
          "output_type": "stream",
          "name": "stdout",
          "text": [
            "Cantidad de filas y columnas\n",
            "(11500, 12)\n",
            "\n",
            "Muestra las primeras 10 filas\n",
            "   Unnamed: 0 first_login_dt  week_year         user_id  habito habito_dt  \\\n",
            "0           0     2022-01-30          4   MLB2883855850     0.0       NaN   \n",
            "1           1     2022-01-30          4   MLB7059024930     0.0       NaN   \n",
            "2           2     2022-01-07          1   MLB4163269880     0.0       NaN   \n",
            "3           3     2022-01-07          1   MLB7349806870     0.0       NaN   \n",
            "4           4     2022-01-07          1   MLB7239064190     0.0       NaN   \n",
            "5           5     2022-01-01         52  MLB10318536730     0.0       NaN   \n",
            "6           6     2022-01-01         52   MLB7546352300     0.0       NaN   \n",
            "7           7     2022-01-16          2   MLB2785023500     0.0       NaN   \n",
            "8           8     2022-01-16          2   MLB8395954300     0.0       NaN   \n",
            "9           9     2022-01-16          2   MLB1610695500     0.0       NaN   \n",
            "\n",
            "   activacion activacion_dt  setup    setup_dt  return   return_dt  \n",
            "0           1    2022-01-30      1  2022-01-30       0         NaN  \n",
            "1           1    2022-03-02      0         NaN       0         NaN  \n",
            "2           0           NaN      0         NaN       1  2022-01-08  \n",
            "3           0           NaN      0         NaN       1  2022-01-08  \n",
            "4           1    2022-01-07      0         NaN       1  2022-01-08  \n",
            "5           0           NaN      0         NaN       0         NaN  \n",
            "6           0           NaN      1  2022-01-01       1  2022-01-03  \n",
            "7           1    2022-01-16      0         NaN       1  2022-01-17  \n",
            "8           0           NaN      1  2022-01-16       0         NaN  \n",
            "9           1    2022-01-16      0         NaN       0         NaN  \n",
            "\n",
            "Muestra las últimas 10 filas\n",
            "       Unnamed: 0       first_login_dt  week_year         user_id  habito  \\\n",
            "11490       11490  2022-01-19 00:00:00          3   MLB8224896810     0.0   \n",
            "11491       11491  2022-01-29 00:00:00          4   MLB7986941990     1.0   \n",
            "11492       11492  2022-01-29 00:00:00          4  MLB10626528960     0.0   \n",
            "11493       11493  2022-01-29 00:00:00          4   MLB1624562350     0.0   \n",
            "11494       11494  2022-01-29 00:00:00          4   MLB8397856010     0.0   \n",
            "11495       11495  2022-01-29 00:00:00          4   MLB5116611060     0.0   \n",
            "11496       11496  2022-01-14 00:00:00          2   MLB7984688360     1.0   \n",
            "11497       11497  2022-01-14 00:00:00          2   MLB6841893560     0.0   \n",
            "11498       11498  2022-01-14 00:00:00          2   MLB7306508150     0.0   \n",
            "11499       11499  2022-01-14 00:00:00          2   MLB3222878440     0.0   \n",
            "\n",
            "                 habito_dt  activacion        activacion_dt  setup  \\\n",
            "11490                  NaN           0                  NaN      0   \n",
            "11491  2022-02-18 00:00:00           1  2022-02-10 00:00:00      1   \n",
            "11492                  NaN           0                  NaN      0   \n",
            "11493                  NaN           0                  NaN      0   \n",
            "11494                  NaN           0                  NaN      1   \n",
            "11495                  NaN           1  2022-01-28 00:00:00      0   \n",
            "11496  2022-01-29 00:00:00           1  2022-01-22 00:00:00      1   \n",
            "11497                  NaN           0                  NaN      0   \n",
            "11498                  NaN           0                  NaN      0   \n",
            "11499                  NaN           0                  NaN      0   \n",
            "\n",
            "                  setup_dt  return            return_dt  \n",
            "11490                  NaN       1  2022-01-20 00:00:00  \n",
            "11491  2022-02-06 00:00:00       1  2022-01-30 00:00:00  \n",
            "11492                  NaN       0                  NaN  \n",
            "11493                  NaN       0                  NaN  \n",
            "11494  2022-01-29 00:00:00       1  2022-01-30 00:00:00  \n",
            "11495                  NaN       1  2022-01-30 00:00:00  \n",
            "11496  2022-01-22 00:00:00       1  2022-01-15 00:00:00  \n",
            "11497                  NaN       1  2022-02-03 00:00:00  \n",
            "11498                  NaN       1  2022-01-15 00:00:00  \n",
            "11499                  NaN       0                  NaN  \n"
          ]
        }
      ],
      "source": [
        "import pandas as pd\n",
        "import numpy as np\n",
        "from datetime import date\n",
        "\n",
        "# Se crea una variable para almacenar nombre del archivo a analizar\n",
        "archivoCsv = 'https://raw.githubusercontent.com/carlosjviola/MeLi-challenge/main/dataset_challenge_analytics.csv'\n",
        "\n",
        "# Cargamos el archivo en un DataFrame de Pandas realizar el estudio\n",
        "dfUsrOrig = pd.read_csv(archivoCsv)\n",
        "\n",
        "#Vemos el tamaño del archivo (filas, columnas) y los primeras y últimas filas del mismo\n",
        "print(\"Cantidad de filas y columnas\")\n",
        "print(dfUsrOrig.shape)\n",
        "\n",
        "print(\"\\nMuestra las primeras 10 filas\")\n",
        "print(dfUsrOrig.head(10))\n",
        "\n",
        "print(\"\\nMuestra las últimas 10 filas\")\n",
        "print(dfUsrOrig.tail(10))"
      ]
    },
    {
      "cell_type": "code",
      "source": [
        "#Removemos las primera columna que contiene un id que entiendo no vamos a utilizar\n",
        "dfUsr = dfUsrOrig.drop(columns = dfUsrOrig.columns[0], axis = 1, inplace= False)\n",
        "\n",
        "print(\"El nuevo DataFrame tiene una columna menos\")\n",
        "print(dfUsr.shape)\n"
      ],
      "metadata": {
        "id": "AiE6skQ2pf0M",
        "colab": {
          "base_uri": "https://localhost:8080/"
        },
        "outputId": "25ddd470-7126-43c9-d739-d01bc308d514"
      },
      "execution_count": 2,
      "outputs": [
        {
          "output_type": "stream",
          "name": "stdout",
          "text": [
            "El nuevo DataFrame tiene una columna menos\n",
            "(11500, 11)\n"
          ]
        }
      ]
    },
    {
      "cell_type": "markdown",
      "source": [
        "**#La columna user_id debería contener valores únicos y es la base para el análisis**"
      ],
      "metadata": {
        "id": "JYuZri5mwIp0"
      }
    },
    {
      "cell_type": "code",
      "source": [
        "#Vamos a analizar la columna user_id y ordenamos esa columna\n",
        "dfUsr.sort_values('user_id', inplace= True)\n",
        "print(\"\\nLa diferencia entre count y unique nos indica que hay valores duplicados\")\n",
        "print(dfUsr['user_id'].describe())\n",
        "\n",
        "print(\"\\nObservamos una muestra aleatoria de 50 registros\")\n",
        "pd.set_option('display.max_rows', None)\n",
        "print(dfUsr['user_id'].sample(n=50))"
      ],
      "metadata": {
        "colab": {
          "base_uri": "https://localhost:8080/"
        },
        "id": "hM5qCqktc5Cy",
        "outputId": "fe08ba1a-c3fa-4faa-e1ca-f7f41fd71701"
      },
      "execution_count": 3,
      "outputs": [
        {
          "output_type": "stream",
          "name": "stdout",
          "text": [
            "\n",
            "La diferencia entre count y unique nos indica que hay valores duplicados\n",
            "count             11500\n",
            "unique            11000\n",
            "top       MLB7852379180\n",
            "freq                  2\n",
            "Name: user_id, dtype: object\n",
            "\n",
            "Observamos una muestra aleatoria de 50 registros\n",
            "3264       MLB3394507400\n",
            "7160       MLB3936251960\n",
            "3392       MLB5669982060\n",
            "5006        MLB434380560\n",
            "5864      MLB10657689270\n",
            "303        MLB1332387190\n",
            "6281      MLB10657400210\n",
            "4895      MLB10406347980\n",
            "578       MLB10613595040\n",
            "9740      MLB10649064790\n",
            "5683      MLB10610334460\n",
            "6000       MLB8388303740\n",
            "1510       MLB2202479180\n",
            "488        MLB4901574640\n",
            "3977      MLB10609860200\n",
            "6259      MLB10576588230\n",
            "1702      MLB10539054140\n",
            "8662      MLB10518780690\n",
            "3000       MLB8318075620\n",
            "3122      MLB10664525680\n",
            "7819       MLB6457362020\n",
            "1403       MLB4716958010\n",
            "1890      MLB10654493090\n",
            "10504    MLB3900196000-1\n",
            "7626       MLB4170209660\n",
            "11343     MLB10571656040\n",
            "2656      MLB10516259620\n",
            "1068       MLB2000727670\n",
            "5819       MLB3149131050\n",
            "2623       MLB8312766740\n",
            "10172    MLB1401779800-1\n",
            "8008       MLB7781777710\n",
            "54         MLB3526663050\n",
            "9688      MLB10643950990\n",
            "7267      MLB10572759130\n",
            "2930        MLB472442480\n",
            "8829       MLB4773716710\n",
            "6431         MLB81985690\n",
            "6593       MLB2137861240\n",
            "6056      MLB10593106220\n",
            "4604       MLB6060815810\n",
            "3253       MLB2373966860\n",
            "1778       MLB6763492620\n",
            "6863      MLB10511479080\n",
            "374        MLB1773522950\n",
            "1134       MLB4847073880\n",
            "177        MLB7558847480\n",
            "8513       MLB4294004940\n",
            "4006      MLB10451365630\n",
            "7379       MLB4848319620\n",
            "Name: user_id, dtype: object\n"
          ]
        }
      ]
    },
    {
      "cell_type": "code",
      "source": [
        "#En algunos registros aparece '-1' al final lo que probablemente se trata de un error\n",
        "#Reemplazamos los caracteres '-1' \n",
        "dfUsr['user_id'] = dfUsr['user_id'].str.replace('-1','')\n",
        "\n",
        "#Vamos a verificar que el campo user_id tenga valores únicos\n",
        "print(\"Cantidad total registros\")\n",
        "print(len(dfUsr['user_id']))\n",
        "\n",
        "print(\"\\nCandidad registros únicos\")\n",
        "print( len(dfUsr['user_id'].unique()) )\n",
        "\n",
        "#Cómo han aparecido duplicados vamos a eliminarlos.\n",
        "dfUsr.drop_duplicates(subset='user_id', inplace=True, keep='first')\n",
        "\n",
        "print(\"\\nNueva cantidad total registros sin duplicados\")\n",
        "print(len(dfUsr['user_id']))\n"
      ],
      "metadata": {
        "id": "G6R7WW1wrbVU",
        "colab": {
          "base_uri": "https://localhost:8080/"
        },
        "outputId": "dc985283-5d70-476f-c50f-47e3e126a67f"
      },
      "execution_count": 4,
      "outputs": [
        {
          "output_type": "stream",
          "name": "stdout",
          "text": [
            "Cantidad total registros\n",
            "11500\n",
            "\n",
            "Candidad registros únicos\n",
            "10000\n",
            "\n",
            "Nueva cantidad total registros sin duplicados\n",
            "10000\n"
          ]
        }
      ]
    },
    {
      "cell_type": "markdown",
      "source": [
        "**#Comenzamos el análisis de otras columnas**"
      ],
      "metadata": {
        "id": "GF9ntYwvwkh8"
      }
    },
    {
      "cell_type": "code",
      "source": [
        "# Convertimos la columna hábito en entero de acuerdo a las especificaciones\n",
        "# antes llenamos con 0 los valores nulos en esta columna\n",
        "display(dfUsr.dtypes)\n",
        "\n",
        "dfUsr['habito'] = dfUsr['habito'].fillna(0.0).astype(int)\n",
        "  \n",
        "print('\\nVerificamos los cambios')\n",
        "display(dfUsr.dtypes)"
      ],
      "metadata": {
        "id": "jUpqMcjHp4jb",
        "colab": {
          "base_uri": "https://localhost:8080/",
          "height": 468
        },
        "outputId": "1a32d122-3842-4a59-989e-3796294e5a91"
      },
      "execution_count": 5,
      "outputs": [
        {
          "output_type": "display_data",
          "data": {
            "text/plain": [
              "first_login_dt     object\n",
              "week_year           int64\n",
              "user_id            object\n",
              "habito            float64\n",
              "habito_dt          object\n",
              "activacion          int64\n",
              "activacion_dt      object\n",
              "setup               int64\n",
              "setup_dt           object\n",
              "return              int64\n",
              "return_dt          object\n",
              "dtype: object"
            ]
          },
          "metadata": {}
        },
        {
          "output_type": "stream",
          "name": "stdout",
          "text": [
            "\n",
            "Verificamos los cambios\n"
          ]
        },
        {
          "output_type": "display_data",
          "data": {
            "text/plain": [
              "first_login_dt    object\n",
              "week_year          int64\n",
              "user_id           object\n",
              "habito             int64\n",
              "habito_dt         object\n",
              "activacion         int64\n",
              "activacion_dt     object\n",
              "setup              int64\n",
              "setup_dt          object\n",
              "return             int64\n",
              "return_dt         object\n",
              "dtype: object"
            ]
          },
          "metadata": {}
        }
      ]
    },
    {
      "cell_type": "code",
      "source": [
        "# Convertimos en date los datos date-time en las columnas fecha \"_dt\". \n",
        "# ya que haciendo una inspección rápida del csv se observa que no hay horas\n",
        "\n",
        "dfUsr['first_login_dt'] = pd.to_datetime(dfUsr['first_login_dt']).dt.date\n",
        "dfUsr['habito_dt'] = pd.to_datetime(dfUsr['habito_dt']).dt.date\n",
        "dfUsr['activacion_dt'] = pd.to_datetime(dfUsr['activacion_dt']).dt.date\n",
        "dfUsr['setup_dt'] = pd.to_datetime(dfUsr['setup_dt']).dt.date\n",
        "dfUsr['return_dt'] = pd.to_datetime(dfUsr['return_dt']).dt.date\n"
      ],
      "metadata": {
        "id": "_e6pZcb-qFR1"
      },
      "execution_count": 6,
      "outputs": []
    },
    {
      "cell_type": "code",
      "source": [
        "# Como no está muy claro su contenido vamos a analizar la columna week_year\n",
        "dfUsr['week_year'].agg(['mean', 'max', 'min'])"
      ],
      "metadata": {
        "colab": {
          "base_uri": "https://localhost:8080/"
        },
        "id": "ZFUHq_PHnDo_",
        "outputId": "477aec25-ac66-49ca-e3e0-f420faa0ff46"
      },
      "execution_count": 7,
      "outputs": [
        {
          "output_type": "execute_result",
          "data": {
            "text/plain": [
              "mean     4.3559\n",
              "max     52.0000\n",
              "min      1.0000\n",
              "Name: week_year, dtype: float64"
            ]
          },
          "metadata": {},
          "execution_count": 7
        }
      ]
    },
    {
      "cell_type": "code",
      "source": [
        "#Los datos son de enero, no puede haber registros con el valor 52 en semana\n",
        "print(\"Cantidad de registros con error en semana\")\n",
        "print(len(dfUsr[dfUsr['week_year']==52]))\n",
        "\n",
        "print(dfUsr[dfUsr['week_year']==52].sample(n=25))\n"
      ],
      "metadata": {
        "id": "akyGyTkzoTtr",
        "colab": {
          "base_uri": "https://localhost:8080/"
        },
        "outputId": "f824269a-b8f3-40fd-de04-c6c0994feee9"
      },
      "execution_count": 8,
      "outputs": [
        {
          "output_type": "stream",
          "name": "stdout",
          "text": [
            "Cantidad de registros con error en semana\n",
            "350\n",
            "     first_login_dt  week_year         user_id  habito   habito_dt  \\\n",
            "1957     2022-01-01         52   MLB3549774050       0         NaT   \n",
            "8353     2022-01-02         52   MLB8215248640       0         NaT   \n",
            "3036     2022-01-02         52  MLB10289484970       0         NaT   \n",
            "3885     2022-01-02         52   MLB3231324460       0         NaT   \n",
            "8209     2022-01-01         52   MLB8288245890       0         NaT   \n",
            "5733     2022-01-02         52    MLB950258540       0         NaT   \n",
            "1567     2022-01-02         52    MLB603464020       1  2022-01-22   \n",
            "7893     2022-01-01         52   MLB8058073600       0         NaT   \n",
            "4403     2022-01-02         52  MLB10497626000       0         NaT   \n",
            "1969     2022-01-02         52  MLB10456007090       0         NaT   \n",
            "143      2022-01-02         52   MLB2080909610       0         NaT   \n",
            "7643     2022-01-02         52  MLB10497635230       0         NaT   \n",
            "1418     2022-01-02         52   MLB4265105850       0         NaT   \n",
            "6995     2022-01-01         52   MLB1323405560       0         NaT   \n",
            "3590     2022-01-02         52  MLB10497639030       0         NaT   \n",
            "3035     2022-01-02         52   MLB4560018820       0         NaT   \n",
            "4649     2022-01-02         52   MLB1321899480       0         NaT   \n",
            "1710     2022-01-02         52  MLB10497152720       0         NaT   \n",
            "9034     2022-01-01         52     MLB58058950       0         NaT   \n",
            "7248     2022-01-01         52  MLB10496428850       0         NaT   \n",
            "5151     2022-01-02         52  MLB10497509720       0         NaT   \n",
            "7769     2022-01-02         52   MLB6866202580       0         NaT   \n",
            "6553     2022-01-02         52   MLB7257453610       0         NaT   \n",
            "8501     2022-01-02         52  MLB10497120040       0         NaT   \n",
            "1829     2022-01-01         52   MLB2280278470       0         NaT   \n",
            "\n",
            "      activacion activacion_dt  setup    setup_dt  return   return_dt  \n",
            "1957           0           NaT      0         NaT       0         NaT  \n",
            "8353           0           NaT      0         NaT       1  2022-01-03  \n",
            "3036           1    2022-01-02      1  2022-01-16       1  2022-01-04  \n",
            "3885           0           NaT      0         NaT       1  2022-01-23  \n",
            "8209           0           NaT      0         NaT       1  2022-01-02  \n",
            "5733           0           NaT      0         NaT       0         NaT  \n",
            "1567           1    2022-01-15      1  2022-01-02       1  2022-01-03  \n",
            "7893           0           NaT      0         NaT       1  2022-01-23  \n",
            "4403           0           NaT      1  2022-01-02       0         NaT  \n",
            "1969           0           NaT      0         NaT       1  2022-01-03  \n",
            "143            0           NaT      0         NaT       0         NaT  \n",
            "7643           1    2022-01-21      1  2022-01-03       1  2022-01-03  \n",
            "1418           0           NaT      0         NaT       0         NaT  \n",
            "6995           1    2022-01-01      0         NaT       1  2022-01-09  \n",
            "3590           0           NaT      0         NaT       1  2022-01-03  \n",
            "3035           0           NaT      0         NaT       0         NaT  \n",
            "4649           0           NaT      0         NaT       1  2022-01-06  \n",
            "1710           0           NaT      1  2022-01-02       1  2022-01-03  \n",
            "9034           0           NaT      1  2022-01-01       1  2022-01-02  \n",
            "7248           0           NaT      0         NaT       1  2022-01-02  \n",
            "5151           0           NaT      0         NaT       1  2022-01-03  \n",
            "7769           1    2022-01-02      0         NaT       1  2022-01-18  \n",
            "6553           1    2022-01-02      1  2022-01-02       0         NaT  \n",
            "8501           1    2022-01-02      1  2022-01-02       0         NaT  \n",
            "1829           0           NaT      0         NaT       1  2022-01-03  \n"
          ]
        }
      ]
    },
    {
      "cell_type": "code",
      "source": [
        "#Vemos que los registros con semana 52 corresponden al 1 y 2 de enero\n",
        "#Como son los primeros días del año quedaron con la última semana del anterior. \n",
        "#Debemos reemplazar 52 por 1\n",
        "dfUsr.loc[dfUsr[\"week_year\"] == 52, \"week_year\"] = 1\n",
        "\n",
        "print(\"Cantidad de registros con error en semana\")\n",
        "print(len(dfUsr[dfUsr['week_year']==52]))\n"
      ],
      "metadata": {
        "id": "FEweOSygJ249",
        "colab": {
          "base_uri": "https://localhost:8080/"
        },
        "outputId": "8025abc2-0683-4bc3-a1bd-a02ec0fc3ba7"
      },
      "execution_count": 9,
      "outputs": [
        {
          "output_type": "stream",
          "name": "stdout",
          "text": [
            "Cantidad de registros con error en semana\n",
            "0\n"
          ]
        }
      ]
    },
    {
      "cell_type": "markdown",
      "source": [
        "**#Ahora hacemos un control con las fechas. Las fechas en las columnas activacion, setup, habito y return deben ser mayores o iguales a la fecha de first_login**"
      ],
      "metadata": {
        "id": "j17o55ixw3-z"
      }
    },
    {
      "cell_type": "code",
      "source": [
        "#Creamos una nueva columna min_dt en el dataset con la menor fecha entre activación, setup, habito y return\n",
        "def calc_new_col(row):\n",
        "    columnas = ['activacion_dt', 'setup_dt', 'habito_dt', 'return_dt']\n",
        "    min_dt = date.max\n",
        "    for col in columnas:\n",
        "        if row[col] is not pd.NaT:\n",
        "          if row[col] < min_dt:\n",
        "              min_dt = row[col]\n",
        "    return min_dt\n",
        "\n",
        "dfUsr[\"min_dt\"] = dfUsr.apply(calc_new_col, axis=1)\n",
        "print(dfUsr.head()) \n",
        "print(dfUsr.shape) \n"
      ],
      "metadata": {
        "colab": {
          "base_uri": "https://localhost:8080/"
        },
        "id": "hfybqrsTQoH2",
        "outputId": "94d60449-b6ae-4e27-a68d-70dbb0f24201"
      },
      "execution_count": 10,
      "outputs": [
        {
          "output_type": "stream",
          "name": "stdout",
          "text": [
            "     first_login_dt  week_year         user_id  habito   habito_dt  \\\n",
            "5561     2022-01-13          2  MLB10001480800       0         NaT   \n",
            "9631     2022-01-06          1  MLB10001530370       0         NaT   \n",
            "5035     2022-01-05          1  MLB10002487550       1  2022-01-18   \n",
            "8479     2022-01-07          1  MLB10002855700       0         NaT   \n",
            "3189     2022-01-15          2  MLB10003112290       0         NaT   \n",
            "\n",
            "      activacion activacion_dt  setup    setup_dt  return   return_dt  \\\n",
            "5561           1    2022-01-13      0         NaT       0         NaT   \n",
            "9631           1    2022-01-06      0         NaT       1  2022-01-13   \n",
            "5035           1    2022-01-07      1  2022-01-08       1  2022-01-06   \n",
            "8479           0           NaT      0         NaT       0         NaT   \n",
            "3189           0           NaT      0         NaT       0         NaT   \n",
            "\n",
            "          min_dt  \n",
            "5561  2022-01-13  \n",
            "9631  2022-01-06  \n",
            "5035  2022-01-06  \n",
            "8479  9999-12-31  \n",
            "3189  9999-12-31  \n",
            "(10000, 12)\n"
          ]
        }
      ]
    },
    {
      "cell_type": "code",
      "source": [
        "print('Tamaño del dataset')\n",
        "print(dfUsr.shape) \n",
        "\n",
        "#Creamos una serie con el índice de los registros con problemas de fecha\n",
        "indexUsr = dfUsr[ dfUsr['min_dt'] < dfUsr['first_login_dt']].index\n",
        "print('\\nCantidad de filas con problemas de fecha')\n",
        "print(indexUsr.shape) \n",
        "\n",
        "#Creamos un nuevo DataFrame borrando los registros con problemas detectados en el punto anterior\n",
        "dfUsrFinal = dfUsr.drop(indexUsr)\n",
        "\n",
        "print('\\nResumen de archivo con los registros borrados')\n",
        "print(dfUsrFinal.shape)\n",
        "\n",
        "print(dfUsrFinal.head(15))"
      ],
      "metadata": {
        "colab": {
          "base_uri": "https://localhost:8080/"
        },
        "id": "Qso9D5yXk6PB",
        "outputId": "b85854cd-1af1-4495-bab4-364b4b9cf913"
      },
      "execution_count": 11,
      "outputs": [
        {
          "output_type": "stream",
          "name": "stdout",
          "text": [
            "Tamaño del dataset\n",
            "(10000, 12)\n",
            "\n",
            "Cantidad de filas con problemas de fecha\n",
            "(364,)\n",
            "\n",
            "Resumen de archivo con los registros borrados\n",
            "(9636, 12)\n",
            "     first_login_dt  week_year         user_id  habito   habito_dt  \\\n",
            "5561     2022-01-13          2  MLB10001480800       0         NaT   \n",
            "9631     2022-01-06          1  MLB10001530370       0         NaT   \n",
            "5035     2022-01-05          1  MLB10002487550       1  2022-01-18   \n",
            "8479     2022-01-07          1  MLB10002855700       0         NaT   \n",
            "3189     2022-01-15          2  MLB10003112290       0         NaT   \n",
            "3103     2022-01-19          3  MLB10003554750       1  2022-02-08   \n",
            "7609     2022-01-21          3  MLB10003698160       0         NaT   \n",
            "2770     2022-01-02          1  MLB10004252630       0         NaT   \n",
            "4929     2022-01-19          3  MLB10004759110       0         NaT   \n",
            "2343     2022-01-26          4  MLB10005576530       0         NaT   \n",
            "5950     2022-01-10          2  MLB10006217790       1  2022-01-23   \n",
            "7859     2022-01-20          3  MLB10007151650       0         NaT   \n",
            "857      2022-01-07          1  MLB10010599840       0         NaT   \n",
            "4609     2022-01-17          3  MLB10011098280       0         NaT   \n",
            "156      2022-01-28          4  MLB10011728560       0         NaT   \n",
            "\n",
            "      activacion activacion_dt  setup    setup_dt  return   return_dt  \\\n",
            "5561           1    2022-01-13      0         NaT       0         NaT   \n",
            "9631           1    2022-01-06      0         NaT       1  2022-01-13   \n",
            "5035           1    2022-01-07      1  2022-01-08       1  2022-01-06   \n",
            "8479           0           NaT      0         NaT       0         NaT   \n",
            "3189           0           NaT      0         NaT       0         NaT   \n",
            "3103           1    2022-01-19      1  2022-01-19       1  2022-01-21   \n",
            "7609           0           NaT      1  2022-01-22       1  2022-01-22   \n",
            "2770           1    2022-01-29      1  2022-01-29       1  2022-01-29   \n",
            "4929           0           NaT      1  2022-01-19       1  2022-01-20   \n",
            "2343           1    2022-01-26      0         NaT       1  2022-02-08   \n",
            "5950           1    2022-01-11      1  2022-01-10       1  2022-01-11   \n",
            "7859           0           NaT      0         NaT       1  2022-01-21   \n",
            "857            0           NaT      1  2022-01-07       1  2022-01-08   \n",
            "4609           0           NaT      1  2022-01-17       0         NaT   \n",
            "156            0           NaT      0         NaT       1  2022-01-31   \n",
            "\n",
            "          min_dt  \n",
            "5561  2022-01-13  \n",
            "9631  2022-01-06  \n",
            "5035  2022-01-06  \n",
            "8479  9999-12-31  \n",
            "3189  9999-12-31  \n",
            "3103  2022-01-19  \n",
            "7609  2022-01-22  \n",
            "2770  2022-01-29  \n",
            "4929  2022-01-19  \n",
            "2343  2022-01-26  \n",
            "5950  2022-01-10  \n",
            "7859  2022-01-21  \n",
            "857   2022-01-07  \n",
            "4609  2022-01-17  \n",
            "156   2022-01-31  \n"
          ]
        }
      ]
    },
    {
      "cell_type": "markdown",
      "source": [
        "**#Ahora vamos a crear columnas con la cantidad de días que trancurren entre las fechas del archivo y la de forst_login**"
      ],
      "metadata": {
        "id": "kS67VhUcyOxz"
      }
    },
    {
      "cell_type": "code",
      "source": [
        "dfUsrFinal['activacion_dias'] = (dfUsrFinal['activacion_dt']-dfUsrFinal['first_login_dt']).dt.days\n",
        "dfUsrFinal['setup_dias'] = (dfUsrFinal['setup_dt']-dfUsrFinal['first_login_dt']).dt.days\n",
        "dfUsrFinal['return_dias'] = (dfUsrFinal['return_dt']-dfUsrFinal['first_login_dt']).dt.days\n",
        "dfUsrFinal['habito_dias'] = (dfUsrFinal['habito_dt']-dfUsrFinal['first_login_dt']).dt.days\n",
        "\n",
        "print('Observamos el encabezado del nuevo DataFrame')\n",
        "print(dfUsrFinal.head(15))"
      ],
      "metadata": {
        "colab": {
          "base_uri": "https://localhost:8080/"
        },
        "id": "hNZuyIP7hpa7",
        "outputId": "ea751fe1-78e8-49ea-fc88-9f67341a8535"
      },
      "execution_count": 12,
      "outputs": [
        {
          "output_type": "stream",
          "name": "stdout",
          "text": [
            "Observamos el encabezado del nuevo DataFrame\n",
            "     first_login_dt  week_year         user_id  habito   habito_dt  \\\n",
            "5561     2022-01-13          2  MLB10001480800       0         NaT   \n",
            "9631     2022-01-06          1  MLB10001530370       0         NaT   \n",
            "5035     2022-01-05          1  MLB10002487550       1  2022-01-18   \n",
            "8479     2022-01-07          1  MLB10002855700       0         NaT   \n",
            "3189     2022-01-15          2  MLB10003112290       0         NaT   \n",
            "3103     2022-01-19          3  MLB10003554750       1  2022-02-08   \n",
            "7609     2022-01-21          3  MLB10003698160       0         NaT   \n",
            "2770     2022-01-02          1  MLB10004252630       0         NaT   \n",
            "4929     2022-01-19          3  MLB10004759110       0         NaT   \n",
            "2343     2022-01-26          4  MLB10005576530       0         NaT   \n",
            "5950     2022-01-10          2  MLB10006217790       1  2022-01-23   \n",
            "7859     2022-01-20          3  MLB10007151650       0         NaT   \n",
            "857      2022-01-07          1  MLB10010599840       0         NaT   \n",
            "4609     2022-01-17          3  MLB10011098280       0         NaT   \n",
            "156      2022-01-28          4  MLB10011728560       0         NaT   \n",
            "\n",
            "      activacion activacion_dt  setup    setup_dt  return   return_dt  \\\n",
            "5561           1    2022-01-13      0         NaT       0         NaT   \n",
            "9631           1    2022-01-06      0         NaT       1  2022-01-13   \n",
            "5035           1    2022-01-07      1  2022-01-08       1  2022-01-06   \n",
            "8479           0           NaT      0         NaT       0         NaT   \n",
            "3189           0           NaT      0         NaT       0         NaT   \n",
            "3103           1    2022-01-19      1  2022-01-19       1  2022-01-21   \n",
            "7609           0           NaT      1  2022-01-22       1  2022-01-22   \n",
            "2770           1    2022-01-29      1  2022-01-29       1  2022-01-29   \n",
            "4929           0           NaT      1  2022-01-19       1  2022-01-20   \n",
            "2343           1    2022-01-26      0         NaT       1  2022-02-08   \n",
            "5950           1    2022-01-11      1  2022-01-10       1  2022-01-11   \n",
            "7859           0           NaT      0         NaT       1  2022-01-21   \n",
            "857            0           NaT      1  2022-01-07       1  2022-01-08   \n",
            "4609           0           NaT      1  2022-01-17       0         NaT   \n",
            "156            0           NaT      0         NaT       1  2022-01-31   \n",
            "\n",
            "          min_dt  activacion_dias  setup_dias  return_dias  habito_dias  \n",
            "5561  2022-01-13              0.0         NaN          NaN          NaN  \n",
            "9631  2022-01-06              0.0         NaN          7.0          NaN  \n",
            "5035  2022-01-06              2.0         3.0          1.0         13.0  \n",
            "8479  9999-12-31              NaN         NaN          NaN          NaN  \n",
            "3189  9999-12-31              NaN         NaN          NaN          NaN  \n",
            "3103  2022-01-19              0.0         0.0          2.0         20.0  \n",
            "7609  2022-01-22              NaN         1.0          1.0          NaN  \n",
            "2770  2022-01-29             27.0        27.0         27.0          NaN  \n",
            "4929  2022-01-19              NaN         0.0          1.0          NaN  \n",
            "2343  2022-01-26              0.0         NaN         13.0          NaN  \n",
            "5950  2022-01-10              1.0         0.0          1.0         13.0  \n",
            "7859  2022-01-21              NaN         NaN          1.0          NaN  \n",
            "857   2022-01-07              NaN         0.0          1.0          NaN  \n",
            "4609  2022-01-17              NaN         0.0          NaN          NaN  \n",
            "156   2022-01-31              NaN         NaN          3.0          NaN  \n"
          ]
        }
      ]
    },
    {
      "cell_type": "markdown",
      "source": [
        "**#Grabamos los resultados del análisis en un nuevo archivo que se utilizará en el reporte**"
      ],
      "metadata": {
        "id": "20pc1bZTytDX"
      }
    },
    {
      "cell_type": "code",
      "source": [
        "dfUsrFinal.to_csv('resultado_final.csv')\n"
      ],
      "metadata": {
        "id": "PUcBcC1yho9W"
      },
      "execution_count": 13,
      "outputs": []
    }
  ]
}