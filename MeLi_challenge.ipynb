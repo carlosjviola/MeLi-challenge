{
  "nbformat": 4,
  "nbformat_minor": 0,
  "metadata": {
    "colab": {
      "provenance": [],
      "mount_file_id": "1Eue_90hUUc_LUhrMg5B0YVrjG9WKpeLs",
      "authorship_tag": "ABX9TyNipLWjxOdZtNid6/mO7tHh",
      "include_colab_link": true
    },
    "kernelspec": {
      "name": "python3",
      "display_name": "Python 3"
    },
    "language_info": {
      "name": "python"
    }
  },
  "cells": [
    {
      "cell_type": "markdown",
      "metadata": {
        "id": "view-in-github",
        "colab_type": "text"
      },
      "source": [
        "<a href=\"https://colab.research.google.com/github/carlosjviola/MeLi-challenge/blob/main/MeLi_challenge.ipynb\" target=\"_parent\"><img src=\"https://colab.research.google.com/assets/colab-badge.svg\" alt=\"Open In Colab\"/></a>"
      ]
    },
    {
      "cell_type": "markdown",
      "source": [
        "**MeLi** - Data Visualization & Analytics Challenge\n",
        "\n",
        "Carlos José Viola - 2022/11 \n",
        "\n",
        "[Ver especificaciones](https://drive.google.com/file/d/1CTPIC5OIZ58joVDMG9AYAEecKTCsRtlc/view?usp=share_link)"
      ],
      "metadata": {
        "id": "fFbJS44Qgzq4"
      }
    },
    {
      "cell_type": "markdown",
      "source": [
        "Supuestos / Consideraciones\n",
        "\n",
        "1) El archivo tiene registros correspondientes al mes de enero de 2022 para el campo first_login_dt\n",
        "\n",
        "2) No hay especificaciones para el campo week_year. Se considera corresponde a la semana del año del campo first_login_dt\n",
        "\n",
        "3) Se realizan distintas operaciones de limpieza de datos\n",
        "\n",
        "3) Los registros del 1 y 2 de enero vienen con la semana 52. De acuerdo a lo supuesto en el punto anterior se reemplazarán los valores.\n",
        "\n",
        "4) Removemos "
      ],
      "metadata": {
        "id": "SFyBhLmPjElJ"
      }
    },
    {
      "cell_type": "markdown",
      "source": [
        "**#Creamos un DataFrame de Pandas para analizar el archivo**"
      ],
      "metadata": {
        "id": "URH8892Pvd69"
      }
    },
    {
      "cell_type": "code",
      "execution_count": 86,
      "metadata": {
        "id": "pHjjQL1_uhsi",
        "colab": {
          "base_uri": "https://localhost:8080/"
        },
        "outputId": "ef475765-de78-4865-a430-fe44920b4b8a"
      },
      "outputs": [
        {
          "output_type": "stream",
          "name": "stdout",
          "text": [
            "Cantidad de filas y columnas\n",
            "(11500, 12)\n",
            "\n",
            "Muestra las primeras 10 filas\n",
            "   Unnamed: 0 first_login_dt  week_year         user_id  habito habito_dt  \\\n",
            "0           0     2022-01-30          4   MLB2883855850     0.0       NaN   \n",
            "1           1     2022-01-30          4   MLB7059024930     0.0       NaN   \n",
            "2           2     2022-01-07          1   MLB4163269880     0.0       NaN   \n",
            "3           3     2022-01-07          1   MLB7349806870     0.0       NaN   \n",
            "4           4     2022-01-07          1   MLB7239064190     0.0       NaN   \n",
            "5           5     2022-01-01         52  MLB10318536730     0.0       NaN   \n",
            "6           6     2022-01-01         52   MLB7546352300     0.0       NaN   \n",
            "7           7     2022-01-16          2   MLB2785023500     0.0       NaN   \n",
            "8           8     2022-01-16          2   MLB8395954300     0.0       NaN   \n",
            "9           9     2022-01-16          2   MLB1610695500     0.0       NaN   \n",
            "\n",
            "   activacion activacion_dt  setup    setup_dt  return   return_dt  \n",
            "0           1    2022-01-30      1  2022-01-30       0         NaN  \n",
            "1           1    2022-03-02      0         NaN       0         NaN  \n",
            "2           0           NaN      0         NaN       1  2022-01-08  \n",
            "3           0           NaN      0         NaN       1  2022-01-08  \n",
            "4           1    2022-01-07      0         NaN       1  2022-01-08  \n",
            "5           0           NaN      0         NaN       0         NaN  \n",
            "6           0           NaN      1  2022-01-01       1  2022-01-03  \n",
            "7           1    2022-01-16      0         NaN       1  2022-01-17  \n",
            "8           0           NaN      1  2022-01-16       0         NaN  \n",
            "9           1    2022-01-16      0         NaN       0         NaN  \n",
            "\n",
            "Muestra las últimas 10 filas\n",
            "   Unnamed: 0 first_login_dt  week_year         user_id  habito habito_dt  \\\n",
            "0           0     2022-01-30          4   MLB2883855850     0.0       NaN   \n",
            "1           1     2022-01-30          4   MLB7059024930     0.0       NaN   \n",
            "2           2     2022-01-07          1   MLB4163269880     0.0       NaN   \n",
            "3           3     2022-01-07          1   MLB7349806870     0.0       NaN   \n",
            "4           4     2022-01-07          1   MLB7239064190     0.0       NaN   \n",
            "5           5     2022-01-01         52  MLB10318536730     0.0       NaN   \n",
            "6           6     2022-01-01         52   MLB7546352300     0.0       NaN   \n",
            "7           7     2022-01-16          2   MLB2785023500     0.0       NaN   \n",
            "8           8     2022-01-16          2   MLB8395954300     0.0       NaN   \n",
            "9           9     2022-01-16          2   MLB1610695500     0.0       NaN   \n",
            "\n",
            "   activacion activacion_dt  setup    setup_dt  return   return_dt  \n",
            "0           1    2022-01-30      1  2022-01-30       0         NaN  \n",
            "1           1    2022-03-02      0         NaN       0         NaN  \n",
            "2           0           NaN      0         NaN       1  2022-01-08  \n",
            "3           0           NaN      0         NaN       1  2022-01-08  \n",
            "4           1    2022-01-07      0         NaN       1  2022-01-08  \n",
            "5           0           NaN      0         NaN       0         NaN  \n",
            "6           0           NaN      1  2022-01-01       1  2022-01-03  \n",
            "7           1    2022-01-16      0         NaN       1  2022-01-17  \n",
            "8           0           NaN      1  2022-01-16       0         NaN  \n",
            "9           1    2022-01-16      0         NaN       0         NaN  \n"
          ]
        }
      ],
      "source": [
        "import pandas as pd\n",
        "import numpy as np\n",
        "from datetime import date\n",
        "\n",
        "# Se crea una variable para almacenar nombre del archivo a analizar\n",
        "archivoCsv = 'https://raw.githubusercontent.com/carlosjviola/MeLi-challenge/main/dataset_challenge_analytics.csv'\n",
        "\n",
        "# Cargamos el archivo en un DataFrame de Pandas realizar el estudio\n",
        "dfUsrOrig = pd.read_csv(archivoCsv)\n",
        "\n",
        "#Vemos el tamaño del archivo (filas, columnas) y los primeras y últimas filas del mismo\n",
        "print(\"Cantidad de filas y columnas\")\n",
        "print(dfUsrOrig.shape)\n",
        "\n",
        "print(\"\\nMuestra las primeras 10 filas\")\n",
        "print(dfUsrOrig.head(10))\n",
        "\n",
        "print(\"\\nMuestra las últimas 10 filas\")\n",
        "print(dfUsrOrig.head(10))"
      ]
    },
    {
      "cell_type": "code",
      "source": [
        "#Removemos las primera columna que contiene un id que entiendo no vamos a utilizar\n",
        "dfUsr = dfUsrOrig.drop(columns = dfUsrOrig.columns[0], axis = 1, inplace= False)\n",
        "\n",
        "print(\"El nuevo DataFrame tiene una columna menos\")\n",
        "print(dfUsr.shape)\n"
      ],
      "metadata": {
        "id": "AiE6skQ2pf0M",
        "colab": {
          "base_uri": "https://localhost:8080/"
        },
        "outputId": "1abb07fe-6633-447e-aa78-063e434571f6"
      },
      "execution_count": 87,
      "outputs": [
        {
          "output_type": "stream",
          "name": "stdout",
          "text": [
            "El nuevo DataFrame tiene una columna menos\n",
            "(11500, 11)\n"
          ]
        }
      ]
    },
    {
      "cell_type": "markdown",
      "source": [
        "**#La columna user_id debería contener valores únicos y es la base para el análisis**"
      ],
      "metadata": {
        "id": "JYuZri5mwIp0"
      }
    },
    {
      "cell_type": "code",
      "source": [
        "#Vamos a analizar la columna user_id y ordenamos esa columna\n",
        "dfUsr.sort_values('user_id', inplace= True)\n",
        "print(dfUsr['user_id'].describe())\n",
        "\n",
        "print(\"\\nObservamos una muestra aleatoris de 50 registros\")\n",
        "pd.set_option('display.max_rows', None)\n",
        "print(dfUsr['user_id'].sample(n=50))"
      ],
      "metadata": {
        "colab": {
          "base_uri": "https://localhost:8080/"
        },
        "id": "hM5qCqktc5Cy",
        "outputId": "df31563f-e5e0-4ed3-ac98-b34f1658d64a"
      },
      "execution_count": 88,
      "outputs": [
        {
          "output_type": "stream",
          "name": "stdout",
          "text": [
            "count             11500\n",
            "unique            11000\n",
            "top       MLB7852379180\n",
            "freq                  2\n",
            "Name: user_id, dtype: object\n",
            "\n",
            "Observamos una muestra aleatoris de 50 registros\n",
            "9693       MLB3489362330\n",
            "7598      MLB10605700240\n",
            "3496      MLB10594402490\n",
            "8283       MLB2110294460\n",
            "3335      MLB10266530370\n",
            "5937      MLB10156336020\n",
            "8141       MLB1170480320\n",
            "4347       MLB2274477160\n",
            "6816      MLB10657042290\n",
            "9164       MLB1611317540\n",
            "3681       MLB5149774500\n",
            "8885      MLB10565056080\n",
            "7368       MLB8398073560\n",
            "2284      MLB10549135110\n",
            "8829       MLB4773716710\n",
            "7088       MLB1603675440\n",
            "8232      MLB10573229460\n",
            "9519      MLB10415790950\n",
            "2816       MLB1754306140\n",
            "6009      MLB10211984500\n",
            "8881       MLB3775394610\n",
            "2575       MLB1484169470\n",
            "167        MLB1576314000\n",
            "5603       MLB2651073110\n",
            "3615      MLB10509701870\n",
            "1899       MLB4378277870\n",
            "2193       MLB2100608490\n",
            "8538      MLB10630107790\n",
            "281        MLB2318835060\n",
            "5967       MLB8369496460\n",
            "7754        MLB554584920\n",
            "8697      MLB10553285940\n",
            "3654       MLB5877019680\n",
            "6211       MLB1421112060\n",
            "10396    MLB2618160800-1\n",
            "5788      MLB10520987720\n",
            "10908    MLB1659094480-1\n",
            "6141      MLB10527436880\n",
            "9411       MLB1775553020\n",
            "9297       MLB3790283630\n",
            "3724      MLB10505865600\n",
            "11250     MLB10529290100\n",
            "8536       MLB7118287370\n",
            "3851      MLB10564399880\n",
            "195       MLB10542424510\n",
            "966        MLB4506362280\n",
            "11483      MLB2165784160\n",
            "3228      MLB10630418880\n",
            "1770      MLB10559833030\n",
            "6870       MLB4060218110\n",
            "Name: user_id, dtype: object\n"
          ]
        }
      ]
    },
    {
      "cell_type": "code",
      "source": [
        "#En algunos registros aparece '-1' al final lo que probablemente se trata de un error\n",
        "#Reemplazamos los caracteres '-1' \n",
        "dfUsr['user_id'] = dfUsr['user_id'].str.replace('-1','')\n",
        "\n",
        "#Vamos a verificar que el campo user_id tenga valores únicos\n",
        "print(\"Cantidad total registros\")\n",
        "print(len(dfUsr['user_id']))\n",
        "\n",
        "print(\"\\nCandidad registros únicos\")\n",
        "print( len(dfUsr['user_id'].unique()) )\n",
        "\n",
        "#Cómo han aparecido duplicados vamos a eliminarlos.\n",
        "dfUsr.drop_duplicates(subset='user_id', inplace=True, keep='first')\n",
        "\n",
        "print(\"\\nNueva cantidad total registros sin duplicados\")\n",
        "print(len(dfUsr['user_id']))\n"
      ],
      "metadata": {
        "id": "G6R7WW1wrbVU",
        "colab": {
          "base_uri": "https://localhost:8080/"
        },
        "outputId": "035c5d1d-3936-4a11-aeee-d2c7697c04d0"
      },
      "execution_count": 89,
      "outputs": [
        {
          "output_type": "stream",
          "name": "stdout",
          "text": [
            "Cantidad total registros\n",
            "11500\n",
            "\n",
            "Candidad registros únicos\n",
            "10000\n",
            "\n",
            "Nueva cantidad total registros sin duplicados\n",
            "10000\n"
          ]
        }
      ]
    },
    {
      "cell_type": "markdown",
      "source": [
        "**#Comenzamos el análisis de otras columnas**"
      ],
      "metadata": {
        "id": "GF9ntYwvwkh8"
      }
    },
    {
      "cell_type": "code",
      "source": [
        "# Convertimos la columna hábito en entero de acuerdo a las especificaciones\n",
        "# antes llenamos con 0 los valores nulos en esta columna\n",
        "display(dfUsr.dtypes)\n",
        "\n",
        "dfUsr['habito'] = dfUsr['habito'].fillna(0.0).astype(int)\n",
        "  \n",
        "print('\\nVerificamos los cambios')\n",
        "display(dfUsr.dtypes)"
      ],
      "metadata": {
        "id": "jUpqMcjHp4jb",
        "colab": {
          "base_uri": "https://localhost:8080/",
          "height": 468
        },
        "outputId": "e74b691f-28da-45a8-94cd-d9857e166924"
      },
      "execution_count": 90,
      "outputs": [
        {
          "output_type": "display_data",
          "data": {
            "text/plain": [
              "first_login_dt     object\n",
              "week_year           int64\n",
              "user_id            object\n",
              "habito            float64\n",
              "habito_dt          object\n",
              "activacion          int64\n",
              "activacion_dt      object\n",
              "setup               int64\n",
              "setup_dt           object\n",
              "return              int64\n",
              "return_dt          object\n",
              "dtype: object"
            ]
          },
          "metadata": {}
        },
        {
          "output_type": "stream",
          "name": "stdout",
          "text": [
            "\n",
            "Verificamos los cambios\n"
          ]
        },
        {
          "output_type": "display_data",
          "data": {
            "text/plain": [
              "first_login_dt    object\n",
              "week_year          int64\n",
              "user_id           object\n",
              "habito             int64\n",
              "habito_dt         object\n",
              "activacion         int64\n",
              "activacion_dt     object\n",
              "setup              int64\n",
              "setup_dt          object\n",
              "return             int64\n",
              "return_dt         object\n",
              "dtype: object"
            ]
          },
          "metadata": {}
        }
      ]
    },
    {
      "cell_type": "code",
      "source": [
        "# Convertimos en date los datos date-time en las columnas fecha. \n",
        "# Haciendo una inspección rápida del csv se observa que no hay horas\n",
        "\n",
        "dfUsr['first_login_dt'] = pd.to_datetime(dfUsr['first_login_dt']).dt.date\n",
        "dfUsr['habito_dt'] = pd.to_datetime(dfUsr['habito_dt']).dt.date\n",
        "dfUsr['activacion_dt'] = pd.to_datetime(dfUsr['activacion_dt']).dt.date\n",
        "dfUsr['setup_dt'] = pd.to_datetime(dfUsr['setup_dt']).dt.date\n",
        "dfUsr['return_dt'] = pd.to_datetime(dfUsr['return_dt']).dt.date\n"
      ],
      "metadata": {
        "id": "_e6pZcb-qFR1"
      },
      "execution_count": 91,
      "outputs": []
    },
    {
      "cell_type": "code",
      "source": [
        "# Como no está muy claro su contenido vamos a analizar la columna week_year\n",
        "dfUsr['week_year'].agg(['mean', 'max', 'min'])"
      ],
      "metadata": {
        "colab": {
          "base_uri": "https://localhost:8080/"
        },
        "id": "ZFUHq_PHnDo_",
        "outputId": "b6d93b4a-2afa-485c-ec14-78bac95f264c"
      },
      "execution_count": 92,
      "outputs": [
        {
          "output_type": "execute_result",
          "data": {
            "text/plain": [
              "mean     4.3559\n",
              "max     52.0000\n",
              "min      1.0000\n",
              "Name: week_year, dtype: float64"
            ]
          },
          "metadata": {},
          "execution_count": 92
        }
      ]
    },
    {
      "cell_type": "code",
      "source": [
        "#Los datos son de enero, no puede haber registros con el valor 52 en semana\n",
        "print(\"Cantidad de registros con error en semana\")\n",
        "print(len(dfUsr[dfUsr['week_year']==52]))\n",
        "\n",
        "print(dfUsr[dfUsr['week_year']==52].sample(n=25))\n"
      ],
      "metadata": {
        "id": "akyGyTkzoTtr",
        "colab": {
          "base_uri": "https://localhost:8080/"
        },
        "outputId": "b8d3a032-5728-4606-c018-f56999f050c7"
      },
      "execution_count": 93,
      "outputs": [
        {
          "output_type": "stream",
          "name": "stdout",
          "text": [
            "Cantidad de registros con error en semana\n",
            "350\n",
            "     first_login_dt  week_year         user_id  habito   habito_dt  \\\n",
            "7893     2022-01-01         52   MLB8058073600       0         NaT   \n",
            "8225     2022-01-02         52  MLB10359574110       0         NaT   \n",
            "5304     2022-01-02         52  MLB10492195060       0         NaT   \n",
            "7508     2022-01-01         52  MLB10465725250       0         NaT   \n",
            "3872     2022-01-01         52   MLB5100960160       0         NaT   \n",
            "18       2022-01-02         52  MLB10492545680       1  2022-01-19   \n",
            "565      2022-01-01         52   MLB7376185410       0         NaT   \n",
            "9592     2022-01-02         52   MLB4046329700       0         NaT   \n",
            "4018     2022-01-02         52  MLB10478346580       0         NaT   \n",
            "7390     2022-01-02         52    MLB189051670       0         NaT   \n",
            "1708     2022-01-02         52   MLB4588634450       1  2022-01-08   \n",
            "5995     2022-01-01         52   MLB8192620260       1  2022-01-16   \n",
            "5139     2022-01-01         52   MLB8007944670       0         NaT   \n",
            "8070     2022-01-02         52  MLB10350963590       0         NaT   \n",
            "7903     2022-01-02         52  MLB10499417380       0         NaT   \n",
            "5595     2022-01-02         52   MLB6295205470       0         NaT   \n",
            "2520     2022-01-02         52   MLB6518709350       0         NaT   \n",
            "437      2022-01-01         52  MLB10423318200       0         NaT   \n",
            "4646     2022-01-02         52   MLB7745448890       0         NaT   \n",
            "4512     2022-01-01         52   MLB1948090240       0         NaT   \n",
            "9195     2022-01-02         52   MLB2049930410       0         NaT   \n",
            "5010     2022-01-02         52    MLB364584630       0         NaT   \n",
            "4768     2022-01-02         52   MLB3200019680       0         NaT   \n",
            "1129     2022-01-01         52   MLB2506097010       0         NaT   \n",
            "9196     2022-01-02         52   MLB6047942210       0         NaT   \n",
            "\n",
            "      activacion activacion_dt  setup    setup_dt  return   return_dt  \n",
            "7893           0           NaT      0         NaT       1  2022-01-23  \n",
            "8225           0           NaT      0         NaT       1  2022-01-26  \n",
            "5304           0           NaT      0         NaT       1  2022-01-03  \n",
            "7508           0           NaT      0         NaT       0         NaT  \n",
            "3872           0           NaT      1  2022-01-01       0         NaT  \n",
            "18             1    2022-01-06      1  2022-01-02       1  2022-01-03  \n",
            "565            0           NaT      1  2022-01-01       1  2022-01-02  \n",
            "9592           1    2022-01-02      0         NaT       0         NaT  \n",
            "4018           0           NaT      0         NaT       0         NaT  \n",
            "7390           1    2022-02-02      1  2022-01-02       0         NaT  \n",
            "1708           1    2022-01-06      1  2022-01-06       1  2022-01-03  \n",
            "5995           1    2022-01-09      1  2022-01-02       1  2022-01-02  \n",
            "5139           0           NaT      0         NaT       1  2022-01-02  \n",
            "8070           0           NaT      0         NaT       1  2022-01-05  \n",
            "7903           0           NaT      0         NaT       0         NaT  \n",
            "5595           0           NaT      0         NaT       1  2022-01-03  \n",
            "2520           0           NaT      0         NaT       0         NaT  \n",
            "437            0           NaT      0         NaT       1  2022-01-05  \n",
            "4646           0           NaT      0         NaT       1  2022-01-03  \n",
            "4512           0           NaT      1  2022-01-01       0         NaT  \n",
            "9195           0           NaT      0         NaT       0         NaT  \n",
            "5010           0           NaT      0         NaT       0         NaT  \n",
            "4768           0           NaT      0         NaT       0         NaT  \n",
            "1129           0           NaT      0         NaT       1  2022-01-07  \n",
            "9196           0           NaT      0         NaT       0         NaT  \n"
          ]
        }
      ]
    },
    {
      "cell_type": "code",
      "source": [
        "#Vemos que los registros con semana 52 corresponden al 1 y 2 de enero\n",
        "#Como son los primeros días del año quedaron con la última semana del anterior. \n",
        "#Debemos reemplazar 52 por 1\n",
        "dfUsr.loc[dfUsr[\"week_year\"] == 52, \"week_year\"] = 1\n",
        "\n",
        "print(\"Cantidad de registros con error en semana\")\n",
        "print(len(dfUsr[dfUsr['week_year']==52]))\n"
      ],
      "metadata": {
        "id": "FEweOSygJ249",
        "colab": {
          "base_uri": "https://localhost:8080/"
        },
        "outputId": "0b2ae107-e591-4b74-93ac-c836181cee83"
      },
      "execution_count": 99,
      "outputs": [
        {
          "output_type": "stream",
          "name": "stdout",
          "text": [
            "Cantidad de registros con error en semana\n",
            "0\n"
          ]
        }
      ]
    },
    {
      "cell_type": "markdown",
      "source": [
        "**#Ahora hacemos un control con las fechas. Las fechas en las columnas activacion, setup, habito y return deben ser mayores o iguales a la fecha de first_login**"
      ],
      "metadata": {
        "id": "j17o55ixw3-z"
      }
    },
    {
      "cell_type": "code",
      "source": [
        "#Creamos una nueva columna max_dt en el dataset con la mayor fecha entre activación, setup, habito y return\n",
        "def calc_new_col(row):\n",
        "    columnas = ['activacion_dt', 'setup_dt', 'habito_dt', 'return_dt']\n",
        "    max_dt = date.min \n",
        "    for col in columnas:\n",
        "        if row[col] is not pd.NaT:\n",
        "          if row[col] > max_dt:\n",
        "              max_dt = row[col]\n",
        "    return max_dt\n",
        "\n",
        "dfUsr[\"max_dt\"] = dfUsr.apply(calc_new_col, axis=1)\n",
        "print(dfUsr.head()) \n",
        "print(dfUsr.shape) \n"
      ],
      "metadata": {
        "colab": {
          "base_uri": "https://localhost:8080/"
        },
        "id": "hfybqrsTQoH2",
        "outputId": "2394836f-2c68-4f6a-c981-f586d49d913a"
      },
      "execution_count": 100,
      "outputs": [
        {
          "output_type": "stream",
          "name": "stdout",
          "text": [
            "     first_login_dt  week_year         user_id  habito   habito_dt  \\\n",
            "5561     2022-01-13          2  MLB10001480800       0         NaT   \n",
            "9631     2022-01-06          1  MLB10001530370       0         NaT   \n",
            "5035     2022-01-05          1  MLB10002487550       1  2022-01-18   \n",
            "8479     2022-01-07          1  MLB10002855700       0         NaT   \n",
            "3189     2022-01-15          2  MLB10003112290       0         NaT   \n",
            "\n",
            "      activacion activacion_dt  setup    setup_dt  return   return_dt  \\\n",
            "5561           1    2022-01-13      0         NaT       0         NaT   \n",
            "9631           1    2022-01-06      0         NaT       1  2022-01-13   \n",
            "5035           1    2022-01-07      1  2022-01-08       1  2022-01-06   \n",
            "8479           0           NaT      0         NaT       0         NaT   \n",
            "3189           0           NaT      0         NaT       0         NaT   \n",
            "\n",
            "          max_dt  \n",
            "5561  2022-01-13  \n",
            "9631  2022-01-13  \n",
            "5035  2022-01-18  \n",
            "8479  0001-01-01  \n",
            "3189  0001-01-01  \n",
            "(10000, 12)\n"
          ]
        }
      ]
    },
    {
      "cell_type": "code",
      "source": [
        "print('Tamaño del dataset')\n",
        "print(dfUsr.shape) \n",
        "\n",
        "#Creamos una serie con el índice de los registros con problemas de fecha\n",
        "indexUsr = dfUsr[ dfUsr['max_dt'] < dfUsr['first_login_dt']].index\n",
        "print('\\nCantidad de filas con problemas de fecha')\n",
        "print(indexUsr.shape) \n",
        "\n",
        "#Creamos un nuevo DataFrame borrando los registros con problemas detectados en el punto anterior\n",
        "dfUsrFinal = dfUsr.drop(indexUsr)\n",
        "\n",
        "print('\\nResumen de archivo con los registros borrados')\n",
        "print(dfUsrFinal.shape)\n",
        "\n",
        "print(dfUsrFinal.head(15))"
      ],
      "metadata": {
        "colab": {
          "base_uri": "https://localhost:8080/"
        },
        "id": "Qso9D5yXk6PB",
        "outputId": "d50c4afc-2ee2-4a83-c0ad-f5de5633e9b1"
      },
      "execution_count": 101,
      "outputs": [
        {
          "output_type": "stream",
          "name": "stdout",
          "text": [
            "Tamaño del dataset\n",
            "(10000, 12)\n",
            "\n",
            "Cantidad de filas con problemas de fecha\n",
            "(2119,)\n",
            "\n",
            "Resumen de archivo con los registros borrados\n",
            "(7881, 12)\n",
            "     first_login_dt  week_year         user_id  habito   habito_dt  \\\n",
            "5561     2022-01-13          2  MLB10001480800       0         NaT   \n",
            "9631     2022-01-06          1  MLB10001530370       0         NaT   \n",
            "5035     2022-01-05          1  MLB10002487550       1  2022-01-18   \n",
            "3103     2022-01-19          3  MLB10003554750       1  2022-02-08   \n",
            "7609     2022-01-21          3  MLB10003698160       0         NaT   \n",
            "2770     2022-01-02          1  MLB10004252630       0         NaT   \n",
            "4929     2022-01-19          3  MLB10004759110       0         NaT   \n",
            "2343     2022-01-26          4  MLB10005576530       0         NaT   \n",
            "5950     2022-01-10          2  MLB10006217790       1  2022-01-23   \n",
            "7859     2022-01-20          3  MLB10007151650       0         NaT   \n",
            "857      2022-01-07          1  MLB10010599840       0         NaT   \n",
            "4609     2022-01-17          3  MLB10011098280       0         NaT   \n",
            "156      2022-01-28          4  MLB10011728560       0         NaT   \n",
            "4632     2022-01-07          1  MLB10012550470       0         NaT   \n",
            "742      2022-01-04          1  MLB10013988190       0         NaT   \n",
            "\n",
            "      activacion activacion_dt  setup    setup_dt  return   return_dt  \\\n",
            "5561           1    2022-01-13      0         NaT       0         NaT   \n",
            "9631           1    2022-01-06      0         NaT       1  2022-01-13   \n",
            "5035           1    2022-01-07      1  2022-01-08       1  2022-01-06   \n",
            "3103           1    2022-01-19      1  2022-01-19       1  2022-01-21   \n",
            "7609           0           NaT      1  2022-01-22       1  2022-01-22   \n",
            "2770           1    2022-01-29      1  2022-01-29       1  2022-01-29   \n",
            "4929           0           NaT      1  2022-01-19       1  2022-01-20   \n",
            "2343           1    2022-01-26      0         NaT       1  2022-02-08   \n",
            "5950           1    2022-01-11      1  2022-01-10       1  2022-01-11   \n",
            "7859           0           NaT      0         NaT       1  2022-01-21   \n",
            "857            0           NaT      1  2022-01-07       1  2022-01-08   \n",
            "4609           0           NaT      1  2022-01-17       0         NaT   \n",
            "156            0           NaT      0         NaT       1  2022-01-31   \n",
            "4632           1    2022-01-21      1  2022-01-07       1  2022-01-17   \n",
            "742            1    2022-01-05      0         NaT       1  2022-01-05   \n",
            "\n",
            "          max_dt  \n",
            "5561  2022-01-13  \n",
            "9631  2022-01-13  \n",
            "5035  2022-01-18  \n",
            "3103  2022-02-08  \n",
            "7609  2022-01-22  \n",
            "2770  2022-01-29  \n",
            "4929  2022-01-20  \n",
            "2343  2022-02-08  \n",
            "5950  2022-01-23  \n",
            "7859  2022-01-21  \n",
            "857   2022-01-08  \n",
            "4609  2022-01-17  \n",
            "156   2022-01-31  \n",
            "4632  2022-01-21  \n",
            "742   2022-01-05  \n"
          ]
        }
      ]
    },
    {
      "cell_type": "markdown",
      "source": [
        "**#Ahora vamos a crear columnas con la cantidad de días que trancurren entre las fechas del archivo y la de forst_login**"
      ],
      "metadata": {
        "id": "kS67VhUcyOxz"
      }
    },
    {
      "cell_type": "code",
      "source": [
        "dfUsrFinal['activacion_dias'] = (dfUsrFinal['activacion_dt']-dfUsrFinal['first_login_dt']).dt.days\n",
        "dfUsrFinal['setup_dias'] = (dfUsrFinal['setup_dt']-dfUsrFinal['first_login_dt']).dt.days\n",
        "dfUsrFinal['return_dias'] = (dfUsrFinal['return_dt']-dfUsrFinal['first_login_dt']).dt.days\n",
        "dfUsrFinal['habito_dias'] = (dfUsrFinal['habito_dt']-dfUsrFinal['first_login_dt']).dt.days\n",
        "\n",
        "print('Observamos el encabezado del nuevo DataFrame')\n",
        "print(dfUsrFinal.head(15))"
      ],
      "metadata": {
        "colab": {
          "base_uri": "https://localhost:8080/"
        },
        "id": "hNZuyIP7hpa7",
        "outputId": "8d5812b8-4dc3-425f-a114-f87b410a73a6"
      },
      "execution_count": 106,
      "outputs": [
        {
          "output_type": "stream",
          "name": "stdout",
          "text": [
            "Observamos el encabezado del nuevo DataFrame\n",
            "     first_login_dt  week_year         user_id  habito   habito_dt  \\\n",
            "5561     2022-01-13          2  MLB10001480800       0         NaT   \n",
            "9631     2022-01-06          1  MLB10001530370       0         NaT   \n",
            "5035     2022-01-05          1  MLB10002487550       1  2022-01-18   \n",
            "3103     2022-01-19          3  MLB10003554750       1  2022-02-08   \n",
            "7609     2022-01-21          3  MLB10003698160       0         NaT   \n",
            "2770     2022-01-02          1  MLB10004252630       0         NaT   \n",
            "4929     2022-01-19          3  MLB10004759110       0         NaT   \n",
            "2343     2022-01-26          4  MLB10005576530       0         NaT   \n",
            "5950     2022-01-10          2  MLB10006217790       1  2022-01-23   \n",
            "7859     2022-01-20          3  MLB10007151650       0         NaT   \n",
            "857      2022-01-07          1  MLB10010599840       0         NaT   \n",
            "4609     2022-01-17          3  MLB10011098280       0         NaT   \n",
            "156      2022-01-28          4  MLB10011728560       0         NaT   \n",
            "4632     2022-01-07          1  MLB10012550470       0         NaT   \n",
            "742      2022-01-04          1  MLB10013988190       0         NaT   \n",
            "\n",
            "      activacion activacion_dt  setup    setup_dt  return   return_dt  \\\n",
            "5561           1    2022-01-13      0         NaT       0         NaT   \n",
            "9631           1    2022-01-06      0         NaT       1  2022-01-13   \n",
            "5035           1    2022-01-07      1  2022-01-08       1  2022-01-06   \n",
            "3103           1    2022-01-19      1  2022-01-19       1  2022-01-21   \n",
            "7609           0           NaT      1  2022-01-22       1  2022-01-22   \n",
            "2770           1    2022-01-29      1  2022-01-29       1  2022-01-29   \n",
            "4929           0           NaT      1  2022-01-19       1  2022-01-20   \n",
            "2343           1    2022-01-26      0         NaT       1  2022-02-08   \n",
            "5950           1    2022-01-11      1  2022-01-10       1  2022-01-11   \n",
            "7859           0           NaT      0         NaT       1  2022-01-21   \n",
            "857            0           NaT      1  2022-01-07       1  2022-01-08   \n",
            "4609           0           NaT      1  2022-01-17       0         NaT   \n",
            "156            0           NaT      0         NaT       1  2022-01-31   \n",
            "4632           1    2022-01-21      1  2022-01-07       1  2022-01-17   \n",
            "742            1    2022-01-05      0         NaT       1  2022-01-05   \n",
            "\n",
            "          max_dt  activacion_dias  setup_dias  return_dias  habito_dias  \n",
            "5561  2022-01-13              0.0         NaN          NaN          NaN  \n",
            "9631  2022-01-13              0.0         NaN          7.0          NaN  \n",
            "5035  2022-01-18              2.0         3.0          1.0         13.0  \n",
            "3103  2022-02-08              0.0         0.0          2.0         20.0  \n",
            "7609  2022-01-22              NaN         1.0          1.0          NaN  \n",
            "2770  2022-01-29             27.0        27.0         27.0          NaN  \n",
            "4929  2022-01-20              NaN         0.0          1.0          NaN  \n",
            "2343  2022-02-08              0.0         NaN         13.0          NaN  \n",
            "5950  2022-01-23              1.0         0.0          1.0         13.0  \n",
            "7859  2022-01-21              NaN         NaN          1.0          NaN  \n",
            "857   2022-01-08              NaN         0.0          1.0          NaN  \n",
            "4609  2022-01-17              NaN         0.0          NaN          NaN  \n",
            "156   2022-01-31              NaN         NaN          3.0          NaN  \n",
            "4632  2022-01-21             14.0         0.0         10.0          NaN  \n",
            "742   2022-01-05              1.0         NaN          1.0          NaN  \n"
          ]
        }
      ]
    },
    {
      "cell_type": "markdown",
      "source": [
        "**#Grabamos los resultados del análisis en un nuevo archivo que se utilizará en el reporte**"
      ],
      "metadata": {
        "id": "20pc1bZTytDX"
      }
    },
    {
      "cell_type": "code",
      "source": [
        "dfUsrFinal.to_csv('resultado_final.csv')\n"
      ],
      "metadata": {
        "id": "PUcBcC1yho9W"
      },
      "execution_count": 107,
      "outputs": []
    },
    {
      "cell_type": "markdown",
      "source": [
        "# Nueva sección"
      ],
      "metadata": {
        "id": "vqNdmWrC6e9j"
      }
    }
  ]
}