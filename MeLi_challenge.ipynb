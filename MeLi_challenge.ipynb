{
  "nbformat": 4,
  "nbformat_minor": 0,
  "metadata": {
    "colab": {
      "provenance": [],
      "mount_file_id": "1Eue_90hUUc_LUhrMg5B0YVrjG9WKpeLs",
      "authorship_tag": "ABX9TyOOhHNjyd+jSMz2r08QmGgd",
      "include_colab_link": true
    },
    "kernelspec": {
      "name": "python3",
      "display_name": "Python 3"
    },
    "language_info": {
      "name": "python"
    }
  },
  "cells": [
    {
      "cell_type": "markdown",
      "metadata": {
        "id": "view-in-github",
        "colab_type": "text"
      },
      "source": [
        "<a href=\"https://colab.research.google.com/github/carlosjviola/MeLi-challenge/blob/main/MeLi_challenge.ipynb\" target=\"_parent\"><img src=\"https://colab.research.google.com/assets/colab-badge.svg\" alt=\"Open In Colab\"/></a>"
      ]
    },
    {
      "cell_type": "markdown",
      "source": [
        "**MeLi** - Data Visualization & Analytics Challenge\n",
        "\n",
        "Carlos José Viola - 2022/11 \n",
        "\n",
        "[Ver especificaciones](https://drive.google.com/file/d/1CTPIC5OIZ58joVDMG9AYAEecKTCsRtlc/view?usp=share_link)"
      ],
      "metadata": {
        "id": "fFbJS44Qgzq4"
      }
    },
    {
      "cell_type": "markdown",
      "source": [
        "Supuestos / Consideraciones\n",
        "\n",
        "1) El archivo tiene registros correspondientes al mes de enero de 2022 para el campo first_login_dt\n",
        "\n",
        "2) No hay especificaciones para el campo week_year. Se considera corresponde a la semana del año del campo first_login_dt\n",
        "\n",
        "3) Se realizan distintas operaciones de limpieza de datos\n",
        "\n",
        "3) Los registros del 1 y 2 de enero vienen con la semana 52. De acuerdo a lo supuesto en el punto anterior se reemplazarán los valores.\n",
        "\n",
        "4) Removemos "
      ],
      "metadata": {
        "id": "SFyBhLmPjElJ"
      }
    },
    {
      "cell_type": "code",
      "execution_count": 25,
      "metadata": {
        "id": "pHjjQL1_uhsi",
        "colab": {
          "base_uri": "https://localhost:8080/"
        },
        "outputId": "8d903e57-30c5-4480-8b75-1eae1a1cfcec"
      },
      "outputs": [
        {
          "output_type": "stream",
          "name": "stdout",
          "text": [
            "Cantidad de filas y columnas\n",
            "(11500, 12)\n",
            "\n",
            "Muestra las primeras 10 filas\n",
            "   Unnamed: 0 first_login_dt  week_year         user_id  habito habito_dt  \\\n",
            "0           0     2022-01-30          4   MLB2883855850     0.0       NaN   \n",
            "1           1     2022-01-30          4   MLB7059024930     0.0       NaN   \n",
            "2           2     2022-01-07          1   MLB4163269880     0.0       NaN   \n",
            "3           3     2022-01-07          1   MLB7349806870     0.0       NaN   \n",
            "4           4     2022-01-07          1   MLB7239064190     0.0       NaN   \n",
            "5           5     2022-01-01         52  MLB10318536730     0.0       NaN   \n",
            "6           6     2022-01-01         52   MLB7546352300     0.0       NaN   \n",
            "7           7     2022-01-16          2   MLB2785023500     0.0       NaN   \n",
            "8           8     2022-01-16          2   MLB8395954300     0.0       NaN   \n",
            "9           9     2022-01-16          2   MLB1610695500     0.0       NaN   \n",
            "\n",
            "   activacion activacion_dt  setup    setup_dt  return   return_dt  \n",
            "0           1    2022-01-30      1  2022-01-30       0         NaN  \n",
            "1           1    2022-03-02      0         NaN       0         NaN  \n",
            "2           0           NaN      0         NaN       1  2022-01-08  \n",
            "3           0           NaN      0         NaN       1  2022-01-08  \n",
            "4           1    2022-01-07      0         NaN       1  2022-01-08  \n",
            "5           0           NaN      0         NaN       0         NaN  \n",
            "6           0           NaN      1  2022-01-01       1  2022-01-03  \n",
            "7           1    2022-01-16      0         NaN       1  2022-01-17  \n",
            "8           0           NaN      1  2022-01-16       0         NaN  \n",
            "9           1    2022-01-16      0         NaN       0         NaN  \n",
            "\n",
            "Muestra las últimas 10 filas\n",
            "   Unnamed: 0 first_login_dt  week_year         user_id  habito habito_dt  \\\n",
            "0           0     2022-01-30          4   MLB2883855850     0.0       NaN   \n",
            "1           1     2022-01-30          4   MLB7059024930     0.0       NaN   \n",
            "2           2     2022-01-07          1   MLB4163269880     0.0       NaN   \n",
            "3           3     2022-01-07          1   MLB7349806870     0.0       NaN   \n",
            "4           4     2022-01-07          1   MLB7239064190     0.0       NaN   \n",
            "5           5     2022-01-01         52  MLB10318536730     0.0       NaN   \n",
            "6           6     2022-01-01         52   MLB7546352300     0.0       NaN   \n",
            "7           7     2022-01-16          2   MLB2785023500     0.0       NaN   \n",
            "8           8     2022-01-16          2   MLB8395954300     0.0       NaN   \n",
            "9           9     2022-01-16          2   MLB1610695500     0.0       NaN   \n",
            "\n",
            "   activacion activacion_dt  setup    setup_dt  return   return_dt  \n",
            "0           1    2022-01-30      1  2022-01-30       0         NaN  \n",
            "1           1    2022-03-02      0         NaN       0         NaN  \n",
            "2           0           NaN      0         NaN       1  2022-01-08  \n",
            "3           0           NaN      0         NaN       1  2022-01-08  \n",
            "4           1    2022-01-07      0         NaN       1  2022-01-08  \n",
            "5           0           NaN      0         NaN       0         NaN  \n",
            "6           0           NaN      1  2022-01-01       1  2022-01-03  \n",
            "7           1    2022-01-16      0         NaN       1  2022-01-17  \n",
            "8           0           NaN      1  2022-01-16       0         NaN  \n",
            "9           1    2022-01-16      0         NaN       0         NaN  \n"
          ]
        }
      ],
      "source": [
        "\n",
        "import pandas as pd\n",
        "import numpy as np\n",
        "from datetime import date\n",
        "\n",
        "# Se crea una variable para almacenar nombre del archivo a analizar\n",
        "archivoCsv = 'https://raw.githubusercontent.com/carlosjviola/MeLi-challenge/main/dataset_challenge_analytics.csv'\n",
        "# Cargamos el archivo en un DataFrame de Pandas realizar el estudio\n",
        "dfUsrOrig = pd.read_csv(archivoCsv)\n",
        "\n",
        "#Vemos el tamaño del archivo (filas, columnas) y los primeros 5 registros del mismo\n",
        "print(\"Cantidad de filas y columnas\")\n",
        "print(dfUsrOrig.shape)\n",
        "\n",
        "print(\"\\nMuestra las primeras 10 filas\")\n",
        "print(dfUsrOrig.head(10))\n",
        "\n",
        "print(\"\\nMuestra las últimas 10 filas\")\n",
        "print(dfUsrOrig.head(10))"
      ]
    },
    {
      "cell_type": "code",
      "source": [
        "#Removemos las primera columna que contiene un id que entiendo no vamos a utilizar\n",
        "dfUsr = dfUsrOrig.drop(columns = dfUsrOrig.columns[0], axis = 1, inplace= False)\n",
        "\n",
        "print(\"El nuevo DataFrame tiene una columna menos\")\n",
        "print(dfUsr.shape)\n"
      ],
      "metadata": {
        "id": "AiE6skQ2pf0M",
        "colab": {
          "base_uri": "https://localhost:8080/"
        },
        "outputId": "8279f175-40c5-45e9-81cd-abc6256c2618"
      },
      "execution_count": 19,
      "outputs": [
        {
          "output_type": "stream",
          "name": "stdout",
          "text": [
            "El nuevo DataFrame tiene una columna menos\n",
            "(11500, 11)\n"
          ]
        }
      ]
    },
    {
      "cell_type": "code",
      "source": [
        "#Vamos a analizar la columna user_id y ordenamos esa columna\n",
        "dfUsr.sort_values('user_id', inplace= True)\n",
        "print(dfUsr['user_id'].describe())\n",
        "print(\"\\nObservamos una muestra aleatoris de 50 registros\")\n",
        "pd.set_option('display.max_rows', None)\n",
        "print(dfUsr['user_id'].sample(n=50))"
      ],
      "metadata": {
        "colab": {
          "base_uri": "https://localhost:8080/"
        },
        "id": "hM5qCqktc5Cy",
        "outputId": "42da8b64-9cda-4c69-bed6-a88b3ba27385"
      },
      "execution_count": 26,
      "outputs": [
        {
          "output_type": "stream",
          "name": "stdout",
          "text": [
            "count               8500\n",
            "unique              8500\n",
            "top       MLB10001480800\n",
            "freq                   1\n",
            "Name: user_id, dtype: object\n",
            "\n",
            "Observamos una muestra aleatoris de 100 registros\n",
            "1772     MLB6049026390\n",
            "9110     MLB2423233020\n",
            "4441    MLB10630717810\n",
            "5772       MLB13726250\n",
            "5711     MLB8148067600\n",
            "9696     MLB6855735120\n",
            "8460    MLB10640308280\n",
            "4974    MLB10644431440\n",
            "1592    MLB10615189240\n",
            "2351    MLB10611123330\n",
            "4713     MLB3127065370\n",
            "8123     MLB2816368520\n",
            "1968    MLB10580813520\n",
            "1686     MLB2150353280\n",
            "1863    MLB10612447700\n",
            "3188    MLB10434576810\n",
            "2936     MLB5666673940\n",
            "3716     MLB2658433150\n",
            "7684     MLB1885036280\n",
            "3815    MLB10433511230\n",
            "5637    MLB10523219320\n",
            "1674    MLB10506320740\n",
            "2252      MLB288293160\n",
            "2819    MLB10551494650\n",
            "6973     MLB3476465700\n",
            "3504     MLB2032961580\n",
            "3705    MLB10609459130\n",
            "2386     MLB6937307550\n",
            "7551     MLB3993737980\n",
            "7515     MLB2259016860\n",
            "6494    MLB10645457910\n",
            "4187     MLB4849162140\n",
            "4609    MLB10011098280\n",
            "3679    MLB10529354590\n",
            "2691    MLB10498824810\n",
            "4535     MLB3829912280\n",
            "7526    MLB10645268330\n",
            "2674     MLB6779111190\n",
            "8172    MLB10584090210\n",
            "7013     MLB7544311270\n",
            "3451     MLB8016028260\n",
            "3665     MLB5374705310\n",
            "2357    MLB10579663240\n",
            "2899    MLB10617328770\n",
            "7260     MLB2091199260\n",
            "2731    MLB10610857380\n",
            "5277    MLB10563912860\n",
            "7367     MLB6615342020\n",
            "6170     MLB1784534860\n",
            "3244     MLB3414601780\n",
            "Name: user_id, dtype: object\n"
          ]
        }
      ]
    },
    {
      "cell_type": "code",
      "source": [
        "#En algunos registros aparece '-1' al final lo que probablemente se trata de un error\n",
        "#Reemplazamos los caracteres '-1' \n",
        "dfUsr['user_id'] = dfUsr['user_id'].str.replace('-1','')\n",
        "\n",
        "#Vamos a verificar que el campo user_id tenga valores únicos\n",
        "print(\"Cantidad total registros\")\n",
        "print(len(dfUsr['user_id']))\n",
        "\n",
        "print(\"\\nCandidad registros únicos\")\n",
        "print( len(dfUsr['user_id'].unique()) )\n",
        "\n",
        "#Cómo han aparecido duplicados vamos a eliminarlos.\n",
        "#Para esto creamos una serie que identifique los duplicados\n",
        "lSerie = dfUsr['user_id'].duplicated(keep = False) \n",
        " \n",
        "dfUsr = dfUsr[~lSerie] \n",
        "\n",
        "print(\"\\nNueva cantidad total registros sin duplicados\")\n",
        "print(len(dfUsr['user_id']))\n",
        "\n"
      ],
      "metadata": {
        "id": "G6R7WW1wrbVU",
        "colab": {
          "base_uri": "https://localhost:8080/"
        },
        "outputId": "f3824781-fde9-4756-fabf-fa21850053e9"
      },
      "execution_count": 27,
      "outputs": [
        {
          "output_type": "stream",
          "name": "stdout",
          "text": [
            "Cantidad total registros\n",
            "8500\n",
            "\n",
            "Candidad registros únicos\n",
            "8500\n",
            "\n",
            "Nueva cantidad total registros sin duplicados\n",
            "8500\n"
          ]
        }
      ]
    },
    {
      "cell_type": "code",
      "source": [
        "# Convertimos la columna hábito en entero de acuerdo a las especificaciones\n",
        "# antes llenamos con 0 los valores nulos en esta columna\n",
        "display(dfUsr.dtypes)\n",
        "\n",
        "dfUsr['habito'] = dfUsr['habito'].fillna(0.0).astype(int)\n",
        "  \n",
        "print('\\nVerificamos los cambios')\n",
        "display(dfUsr.dtypes)"
      ],
      "metadata": {
        "id": "jUpqMcjHp4jb",
        "colab": {
          "base_uri": "https://localhost:8080/",
          "height": 468
        },
        "outputId": "dee2d473-1a7e-4e7d-ddb5-591de9645367"
      },
      "execution_count": 29,
      "outputs": [
        {
          "output_type": "display_data",
          "data": {
            "text/plain": [
              "first_login_dt    object\n",
              "week_year          int64\n",
              "user_id           object\n",
              "habito             int64\n",
              "habito_dt         object\n",
              "activacion         int64\n",
              "activacion_dt     object\n",
              "setup              int64\n",
              "setup_dt          object\n",
              "return             int64\n",
              "return_dt         object\n",
              "dtype: object"
            ]
          },
          "metadata": {}
        },
        {
          "output_type": "stream",
          "name": "stdout",
          "text": [
            "\n",
            "Verificamos los cambios\n"
          ]
        },
        {
          "output_type": "display_data",
          "data": {
            "text/plain": [
              "first_login_dt    object\n",
              "week_year          int64\n",
              "user_id           object\n",
              "habito             int64\n",
              "habito_dt         object\n",
              "activacion         int64\n",
              "activacion_dt     object\n",
              "setup              int64\n",
              "setup_dt          object\n",
              "return             int64\n",
              "return_dt         object\n",
              "dtype: object"
            ]
          },
          "metadata": {}
        }
      ]
    },
    {
      "cell_type": "code",
      "source": [
        "# Convertimos en date los datos date-time en las columnas fecha. \n",
        "# Haciendo una inspección rápida del csv se observa que no hay horas\n",
        "dfUsr['first_login_dt'] = pd.to_datetime(dfUsr['first_login_dt']).dt.date\n",
        "dfUsr['habito_dt'] = pd.to_datetime(dfUsr['habito_dt']).dt.date\n",
        "dfUsr['activacion_dt'] = pd.to_datetime(dfUsr['activacion_dt']).dt.date\n",
        "dfUsr['setup_dt'] = pd.to_datetime(dfUsr['setup_dt']).dt.date\n",
        "dfUsr['return_dt'] = pd.to_datetime(dfUsr['return_dt']).dt.date\n"
      ],
      "metadata": {
        "id": "_e6pZcb-qFR1"
      },
      "execution_count": 30,
      "outputs": []
    },
    {
      "cell_type": "code",
      "source": [
        "# Como no está muy claro su contenido vamos a analizar la columna week_year\n",
        "dfUsr['week_year'].agg(['mean', 'max', 'min'])"
      ],
      "metadata": {
        "colab": {
          "base_uri": "https://localhost:8080/"
        },
        "id": "ZFUHq_PHnDo_",
        "outputId": "94768e4a-2b09-42da-d3a8-71de9f93aef7"
      },
      "execution_count": 31,
      "outputs": [
        {
          "output_type": "execute_result",
          "data": {
            "text/plain": [
              "mean     4.348471\n",
              "max     52.000000\n",
              "min      1.000000\n",
              "Name: week_year, dtype: float64"
            ]
          },
          "metadata": {},
          "execution_count": 31
        }
      ]
    },
    {
      "cell_type": "code",
      "source": [
        "#Los datos son de enero, no puede haber registros con el valor 52 en semana\n",
        "print(dfUsr[dfUsr['week_year']==52])"
      ],
      "metadata": {
        "id": "akyGyTkzoTtr",
        "colab": {
          "base_uri": "https://localhost:8080/"
        },
        "outputId": "442ff58c-c9fc-4ba5-b803-8df474cefb7b"
      },
      "execution_count": null,
      "outputs": [
        {
          "output_type": "stream",
          "name": "stdout",
          "text": [
            "     first_login_dt  week_year         user_id  habito habito_dt  activacion  \\\n",
            "2770     2022-01-02         52  MLB10004252630       0       NaT           1   \n",
            "9577     2022-01-01         52  MLB10019564580       0       NaT           0   \n",
            "5717     2022-01-01         52  MLB10064714530       0       NaT           0   \n",
            "3170     2022-01-01         52  MLB10074070400       0       NaT           0   \n",
            "4404     2022-01-02         52  MLB10088145650       0       NaT           1   \n",
            "...             ...        ...             ...     ...       ...         ...   \n",
            "4280     2022-01-02         52   MLB8381923230       0       NaT           1   \n",
            "7115     2022-01-01         52    MLB852124930       0       NaT           1   \n",
            "5591     2022-01-02         52    MLB938961270       0       NaT           1   \n",
            "4761     2022-01-01         52    MLB949054360       0       NaT           1   \n",
            "5733     2022-01-02         52    MLB950258540       0       NaT           0   \n",
            "\n",
            "     activacion_dt  setup    setup_dt  return   return_dt  \n",
            "2770    2022-01-29      1  2022-01-29       1  2022-01-29  \n",
            "9577           NaT      1  2022-01-01       1  2022-01-11  \n",
            "5717           NaT      1  2022-01-01       1  2022-01-25  \n",
            "3170           NaT      0         NaT       0         NaT  \n",
            "4404    2022-01-02      0         NaT       1  2022-01-10  \n",
            "...            ...    ...         ...     ...         ...  \n",
            "4280    2022-02-02      0         NaT       1  2022-01-03  \n",
            "7115    2022-01-27      1  2022-01-02       0         NaT  \n",
            "5591    2022-01-14      1  2022-01-03       1  2022-01-03  \n",
            "4761    2022-01-12      0         NaT       1  2022-01-06  \n",
            "5733           NaT      0         NaT       0         NaT  \n",
            "\n",
            "[295 rows x 11 columns]\n"
          ]
        }
      ]
    },
    {
      "cell_type": "code",
      "source": [
        "#Vemos que los registros con semana 52 corresponden al 1 y 2 de enero\n",
        "#Como son los primeros días del año quedaron con la última semana del anterior. \n",
        "#Debemos reemplazar 52 por 1\n"
      ],
      "metadata": {
        "id": "FEweOSygJ249"
      },
      "execution_count": null,
      "outputs": []
    },
    {
      "cell_type": "code",
      "source": [
        "#dfError = dfUsr[ dfUsr['activacion_dt'] < dfUsr['first_login_dt']]\n",
        "#Vamos a verificar que ninguna fecha en las columnas del archivo sea anterior a la fecha de primer login\n",
        "#Creamos una nueva columna max_dt en el dataset con la mayor fecha entre activación, setup, habito y return\n",
        "\n",
        "def calc_new_col(row):\n",
        "    columnas = ['activacion_dt', 'setup_dt', 'habito_dt', 'return_dt']\n",
        "    max_dt = date.min \n",
        "    for col in columnas:\n",
        "        if row[col] > max_dt:\n",
        "            max_dt = row[col]\n",
        "    return max_dt\n",
        "\n",
        "dfUsr[\"max_dt\"] = dfUsr.apply(calc_new_col, axis=1)\n",
        "print(dfUsr.head()) \n",
        "print(dfUsr.shape) \n"
      ],
      "metadata": {
        "colab": {
          "base_uri": "https://localhost:8080/"
        },
        "id": "hfybqrsTQoH2",
        "outputId": "b24d129e-2bfb-4797-f9e5-f17a2110daf2"
      },
      "execution_count": 32,
      "outputs": [
        {
          "output_type": "stream",
          "name": "stderr",
          "text": [
            "/usr/local/lib/python3.7/dist-packages/ipykernel_launcher.py:9: FutureWarning: Comparison of NaT with datetime.date is deprecated in order to match the standard library behavior.  In a future version these will be considered non-comparable.\n",
            "  if __name__ == '__main__':\n"
          ]
        },
        {
          "output_type": "stream",
          "name": "stdout",
          "text": [
            "     first_login_dt  week_year         user_id  habito   habito_dt  \\\n",
            "5561     2022-01-13          2  MLB10001480800       0         NaT   \n",
            "9631     2022-01-06          1  MLB10001530370       0         NaT   \n",
            "5035     2022-01-05          1  MLB10002487550       1  2022-01-18   \n",
            "8479     2022-01-07          1  MLB10002855700       0         NaT   \n",
            "3189     2022-01-15          2  MLB10003112290       0         NaT   \n",
            "\n",
            "      activacion activacion_dt  setup    setup_dt  return   return_dt  \\\n",
            "5561           1    2022-01-13      0         NaT       0         NaT   \n",
            "9631           1    2022-01-06      0         NaT       1  2022-01-13   \n",
            "5035           1    2022-01-07      1  2022-01-08       1  2022-01-06   \n",
            "8479           0           NaT      0         NaT       0         NaT   \n",
            "3189           0           NaT      0         NaT       0         NaT   \n",
            "\n",
            "          max_dt  \n",
            "5561  2022-01-13  \n",
            "9631  2022-01-13  \n",
            "5035  2022-01-18  \n",
            "8479  0001-01-01  \n",
            "3189  0001-01-01  \n",
            "(8500, 12)\n"
          ]
        }
      ]
    },
    {
      "cell_type": "code",
      "source": [
        "print('Tamaño del dataset')\n",
        "print(dfUsr.shape) \n",
        "\n",
        "indexUsr = dfUsr[ dfUsr['max_dt'] < dfUsr['first_login_dt']].index\n",
        "print('\\nFilas con error de fecha')\n",
        "print(indexUsr.shape) \n",
        "\n",
        "dfUsrFinal = dfUsr.drop(indexUsr)\n",
        "print(dfUsrFinal.head(15))\n",
        "print(dfUsrFinal.shape)\n"
      ],
      "metadata": {
        "colab": {
          "base_uri": "https://localhost:8080/"
        },
        "id": "Qso9D5yXk6PB",
        "outputId": "df233435-2347-4748-acc6-3628e9640ef5"
      },
      "execution_count": 33,
      "outputs": [
        {
          "output_type": "stream",
          "name": "stdout",
          "text": [
            "Tamaño del dataset\n",
            "(8500, 12)\n",
            "\n",
            "Filas con error de fecha\n",
            "(1769,)\n",
            "     first_login_dt  week_year         user_id  habito   habito_dt  \\\n",
            "5561     2022-01-13          2  MLB10001480800       0         NaT   \n",
            "9631     2022-01-06          1  MLB10001530370       0         NaT   \n",
            "5035     2022-01-05          1  MLB10002487550       1  2022-01-18   \n",
            "3103     2022-01-19          3  MLB10003554750       1  2022-02-08   \n",
            "7609     2022-01-21          3  MLB10003698160       0         NaT   \n",
            "2770     2022-01-02         52  MLB10004252630       0         NaT   \n",
            "4929     2022-01-19          3  MLB10004759110       0         NaT   \n",
            "2343     2022-01-26          4  MLB10005576530       0         NaT   \n",
            "5950     2022-01-10          2  MLB10006217790       1  2022-01-23   \n",
            "7859     2022-01-20          3  MLB10007151650       0         NaT   \n",
            "4609     2022-01-17          3  MLB10011098280       0         NaT   \n",
            "4632     2022-01-07          1  MLB10012550470       0         NaT   \n",
            "7167     2022-01-11          2  MLB10014188850       1  2022-01-16   \n",
            "7504     2022-01-07          1  MLB10016801740       0         NaT   \n",
            "6613     2022-01-19          3  MLB10016913090       0         NaT   \n",
            "\n",
            "      activacion activacion_dt  setup    setup_dt  return   return_dt  \\\n",
            "5561           1    2022-01-13      0         NaT       0         NaT   \n",
            "9631           1    2022-01-06      0         NaT       1  2022-01-13   \n",
            "5035           1    2022-01-07      1  2022-01-08       1  2022-01-06   \n",
            "3103           1    2022-01-19      1  2022-01-19       1  2022-01-21   \n",
            "7609           0           NaT      1  2022-01-22       1  2022-01-22   \n",
            "2770           1    2022-01-29      1  2022-01-29       1  2022-01-29   \n",
            "4929           0           NaT      1  2022-01-19       1  2022-01-20   \n",
            "2343           1    2022-01-26      0         NaT       1  2022-02-08   \n",
            "5950           1    2022-01-11      1  2022-01-10       1  2022-01-11   \n",
            "7859           0           NaT      0         NaT       1  2022-01-21   \n",
            "4609           0           NaT      1  2022-01-17       0         NaT   \n",
            "4632           1    2022-01-21      1  2022-01-07       1  2022-01-17   \n",
            "7167           1    2022-01-11      0         NaT       1  2022-01-16   \n",
            "7504           1    2022-01-11      0         NaT       1  2022-01-08   \n",
            "6613           1    2022-01-31      1  2022-01-19       1  2022-01-26   \n",
            "\n",
            "          max_dt  \n",
            "5561  2022-01-13  \n",
            "9631  2022-01-13  \n",
            "5035  2022-01-18  \n",
            "3103  2022-02-08  \n",
            "7609  2022-01-22  \n",
            "2770  2022-01-29  \n",
            "4929  2022-01-20  \n",
            "2343  2022-02-08  \n",
            "5950  2022-01-23  \n",
            "7859  2022-01-21  \n",
            "4609  2022-01-17  \n",
            "4632  2022-01-21  \n",
            "7167  2022-01-16  \n",
            "7504  2022-01-11  \n",
            "6613  2022-01-31  \n",
            "(6731, 12)\n"
          ]
        }
      ]
    },
    {
      "cell_type": "code",
      "source": [
        "dfUsrFinal['activacion_dias'] = (dfUsrFinal['activacion_dt']-dfUsrFinal['first_login_dt']).dt.days\n",
        "dfUsrFinal['setup_dias'] = (dfUsrFinal['setup_dt']-dfUsrFinal['first_login_dt']).dt.days\n",
        "dfUsrFinal['return_dias'] = (dfUsrFinal['return_dt']-dfUsrFinal['first_login_dt']).dt.days\n",
        "print(dfUsrFinal.head(15))\n"
      ],
      "metadata": {
        "colab": {
          "base_uri": "https://localhost:8080/"
        },
        "id": "hNZuyIP7hpa7",
        "outputId": "5e8b46ce-8d4c-4f5a-c79f-c227b4918982"
      },
      "execution_count": 38,
      "outputs": [
        {
          "output_type": "stream",
          "name": "stdout",
          "text": [
            "     first_login_dt  week_year         user_id  habito   habito_dt  \\\n",
            "5561     2022-01-13          2  MLB10001480800       0         NaT   \n",
            "9631     2022-01-06          1  MLB10001530370       0         NaT   \n",
            "5035     2022-01-05          1  MLB10002487550       1  2022-01-18   \n",
            "3103     2022-01-19          3  MLB10003554750       1  2022-02-08   \n",
            "7609     2022-01-21          3  MLB10003698160       0         NaT   \n",
            "2770     2022-01-02         52  MLB10004252630       0         NaT   \n",
            "4929     2022-01-19          3  MLB10004759110       0         NaT   \n",
            "2343     2022-01-26          4  MLB10005576530       0         NaT   \n",
            "5950     2022-01-10          2  MLB10006217790       1  2022-01-23   \n",
            "7859     2022-01-20          3  MLB10007151650       0         NaT   \n",
            "4609     2022-01-17          3  MLB10011098280       0         NaT   \n",
            "4632     2022-01-07          1  MLB10012550470       0         NaT   \n",
            "7167     2022-01-11          2  MLB10014188850       1  2022-01-16   \n",
            "7504     2022-01-07          1  MLB10016801740       0         NaT   \n",
            "6613     2022-01-19          3  MLB10016913090       0         NaT   \n",
            "\n",
            "      activacion activacion_dt  setup    setup_dt  return   return_dt  \\\n",
            "5561           1    2022-01-13      0         NaT       0         NaT   \n",
            "9631           1    2022-01-06      0         NaT       1  2022-01-13   \n",
            "5035           1    2022-01-07      1  2022-01-08       1  2022-01-06   \n",
            "3103           1    2022-01-19      1  2022-01-19       1  2022-01-21   \n",
            "7609           0           NaT      1  2022-01-22       1  2022-01-22   \n",
            "2770           1    2022-01-29      1  2022-01-29       1  2022-01-29   \n",
            "4929           0           NaT      1  2022-01-19       1  2022-01-20   \n",
            "2343           1    2022-01-26      0         NaT       1  2022-02-08   \n",
            "5950           1    2022-01-11      1  2022-01-10       1  2022-01-11   \n",
            "7859           0           NaT      0         NaT       1  2022-01-21   \n",
            "4609           0           NaT      1  2022-01-17       0         NaT   \n",
            "4632           1    2022-01-21      1  2022-01-07       1  2022-01-17   \n",
            "7167           1    2022-01-11      0         NaT       1  2022-01-16   \n",
            "7504           1    2022-01-11      0         NaT       1  2022-01-08   \n",
            "6613           1    2022-01-31      1  2022-01-19       1  2022-01-26   \n",
            "\n",
            "          max_dt  activacion_dias  setup_dias  return_dias  \n",
            "5561  2022-01-13              0.0         NaN          NaN  \n",
            "9631  2022-01-13              0.0         NaN          7.0  \n",
            "5035  2022-01-18              2.0         3.0          1.0  \n",
            "3103  2022-02-08              0.0         0.0          2.0  \n",
            "7609  2022-01-22              NaN         1.0          1.0  \n",
            "2770  2022-01-29             27.0        27.0         27.0  \n",
            "4929  2022-01-20              NaN         0.0          1.0  \n",
            "2343  2022-02-08              0.0         NaN         13.0  \n",
            "5950  2022-01-23              1.0         0.0          1.0  \n",
            "7859  2022-01-21              NaN         NaN          1.0  \n",
            "4609  2022-01-17              NaN         0.0          NaN  \n",
            "4632  2022-01-21             14.0         0.0         10.0  \n",
            "7167  2022-01-16              0.0         NaN          5.0  \n",
            "7504  2022-01-11              4.0         NaN          1.0  \n",
            "6613  2022-01-31             12.0         0.0          7.0  \n"
          ]
        }
      ]
    },
    {
      "cell_type": "code",
      "source": [
        "dfUsrFinal.to_csv('resultado2.csv')\n"
      ],
      "metadata": {
        "id": "PUcBcC1yho9W"
      },
      "execution_count": 39,
      "outputs": []
    },
    {
      "cell_type": "markdown",
      "source": [
        "# Nueva sección"
      ],
      "metadata": {
        "id": "vqNdmWrC6e9j"
      }
    }
  ]
}