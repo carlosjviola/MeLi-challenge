{
  "nbformat": 4,
  "nbformat_minor": 0,
  "metadata": {
    "colab": {
      "provenance": [],
      "mount_file_id": "1Eue_90hUUc_LUhrMg5B0YVrjG9WKpeLs",
      "authorship_tag": "ABX9TyP4QLSJnkt5vGn9PSzkUO6A",
      "include_colab_link": true
    },
    "kernelspec": {
      "name": "python3",
      "display_name": "Python 3"
    },
    "language_info": {
      "name": "python"
    }
  },
  "cells": [
    {
      "cell_type": "markdown",
      "metadata": {
        "id": "view-in-github",
        "colab_type": "text"
      },
      "source": [
        "<a href=\"https://colab.research.google.com/github/carlosjviola/MeLi-challenge/blob/main/MeLi_challenge.ipynb\" target=\"_parent\"><img src=\"https://colab.research.google.com/assets/colab-badge.svg\" alt=\"Open In Colab\"/></a>"
      ]
    },
    {
      "cell_type": "markdown",
      "source": [
        "**MeLi** - Data Visualization & Analytics Challenge\n",
        "\n",
        "Carlos José Viola - 2022/11 \n",
        "\n",
        "[Ver especificaciones](https://drive.google.com/file/d/1CTPIC5OIZ58joVDMG9AYAEecKTCsRtlc/view?usp=share_link)"
      ],
      "metadata": {
        "id": "fFbJS44Qgzq4"
      }
    },
    {
      "cell_type": "markdown",
      "source": [
        "**#Creamos un DataFrame de Pandas para analizar el archivo**"
      ],
      "metadata": {
        "id": "URH8892Pvd69"
      }
    },
    {
      "cell_type": "code",
      "execution_count": 73,
      "metadata": {
        "id": "pHjjQL1_uhsi",
        "colab": {
          "base_uri": "https://localhost:8080/"
        },
        "outputId": "c0b43758-dca1-4447-a8d2-48eb6ed0ae2a"
      },
      "outputs": [
        {
          "output_type": "stream",
          "name": "stdout",
          "text": [
            "Cantidad de filas y columnas\n",
            "(11500, 12)\n",
            "\n",
            "Muestra las primeras 10 filas\n",
            "   Unnamed: 0 first_login_dt  week_year         user_id  habito habito_dt  \\\n",
            "0           0     2022-01-30          4   MLB2883855850     0.0       NaN   \n",
            "1           1     2022-01-30          4   MLB7059024930     0.0       NaN   \n",
            "2           2     2022-01-07          1   MLB4163269880     0.0       NaN   \n",
            "3           3     2022-01-07          1   MLB7349806870     0.0       NaN   \n",
            "4           4     2022-01-07          1   MLB7239064190     0.0       NaN   \n",
            "5           5     2022-01-01         52  MLB10318536730     0.0       NaN   \n",
            "6           6     2022-01-01         52   MLB7546352300     0.0       NaN   \n",
            "7           7     2022-01-16          2   MLB2785023500     0.0       NaN   \n",
            "8           8     2022-01-16          2   MLB8395954300     0.0       NaN   \n",
            "9           9     2022-01-16          2   MLB1610695500     0.0       NaN   \n",
            "\n",
            "   activacion activacion_dt  setup    setup_dt  return   return_dt  \n",
            "0           1    2022-01-30      1  2022-01-30       0         NaN  \n",
            "1           1    2022-03-02      0         NaN       0         NaN  \n",
            "2           0           NaN      0         NaN       1  2022-01-08  \n",
            "3           0           NaN      0         NaN       1  2022-01-08  \n",
            "4           1    2022-01-07      0         NaN       1  2022-01-08  \n",
            "5           0           NaN      0         NaN       0         NaN  \n",
            "6           0           NaN      1  2022-01-01       1  2022-01-03  \n",
            "7           1    2022-01-16      0         NaN       1  2022-01-17  \n",
            "8           0           NaN      1  2022-01-16       0         NaN  \n",
            "9           1    2022-01-16      0         NaN       0         NaN  \n",
            "\n",
            "Muestra las últimas 10 filas\n",
            "       Unnamed: 0       first_login_dt  week_year         user_id  habito  \\\n",
            "11490       11490  2022-01-19 00:00:00          3   MLB8224896810     0.0   \n",
            "11491       11491  2022-01-29 00:00:00          4   MLB7986941990     1.0   \n",
            "11492       11492  2022-01-29 00:00:00          4  MLB10626528960     0.0   \n",
            "11493       11493  2022-01-29 00:00:00          4   MLB1624562350     0.0   \n",
            "11494       11494  2022-01-29 00:00:00          4   MLB8397856010     0.0   \n",
            "11495       11495  2022-01-29 00:00:00          4   MLB5116611060     0.0   \n",
            "11496       11496  2022-01-14 00:00:00          2   MLB7984688360     1.0   \n",
            "11497       11497  2022-01-14 00:00:00          2   MLB6841893560     0.0   \n",
            "11498       11498  2022-01-14 00:00:00          2   MLB7306508150     0.0   \n",
            "11499       11499  2022-01-14 00:00:00          2   MLB3222878440     0.0   \n",
            "\n",
            "                 habito_dt  activacion        activacion_dt  setup  \\\n",
            "11490                  NaN           0                  NaN      0   \n",
            "11491  2022-02-18 00:00:00           1  2022-02-10 00:00:00      1   \n",
            "11492                  NaN           0                  NaN      0   \n",
            "11493                  NaN           0                  NaN      0   \n",
            "11494                  NaN           0                  NaN      1   \n",
            "11495                  NaN           1  2022-01-28 00:00:00      0   \n",
            "11496  2022-01-29 00:00:00           1  2022-01-22 00:00:00      1   \n",
            "11497                  NaN           0                  NaN      0   \n",
            "11498                  NaN           0                  NaN      0   \n",
            "11499                  NaN           0                  NaN      0   \n",
            "\n",
            "                  setup_dt  return            return_dt  \n",
            "11490                  NaN       1  2022-01-20 00:00:00  \n",
            "11491  2022-02-06 00:00:00       1  2022-01-30 00:00:00  \n",
            "11492                  NaN       0                  NaN  \n",
            "11493                  NaN       0                  NaN  \n",
            "11494  2022-01-29 00:00:00       1  2022-01-30 00:00:00  \n",
            "11495                  NaN       1  2022-01-30 00:00:00  \n",
            "11496  2022-01-22 00:00:00       1  2022-01-15 00:00:00  \n",
            "11497                  NaN       1  2022-02-03 00:00:00  \n",
            "11498                  NaN       1  2022-01-15 00:00:00  \n",
            "11499                  NaN       0                  NaN  \n"
          ]
        }
      ],
      "source": [
        "import pandas as pd\n",
        "import numpy as np\n",
        "from datetime import date\n",
        "\n",
        "# Se crea una variable para almacenar nombre del archivo a analizar\n",
        "archivoCsv = 'https://raw.githubusercontent.com/carlosjviola/MeLi-challenge/main/dataset_challenge_analytics.csv'\n",
        "\n",
        "# Cargamos el archivo en un DataFrame de Pandas realizar el estudio\n",
        "dfUsrOrig = pd.read_csv(archivoCsv)\n",
        "\n",
        "#Vemos el tamaño del archivo (filas, columnas) y los primeras y últimas filas del mismo\n",
        "print(\"Cantidad de filas y columnas\")\n",
        "print(dfUsrOrig.shape)\n",
        "\n",
        "print(\"\\nMuestra las primeras 10 filas\")\n",
        "print(dfUsrOrig.head(10))\n",
        "\n",
        "print(\"\\nMuestra las últimas 10 filas\")\n",
        "print(dfUsrOrig.tail(10))"
      ]
    },
    {
      "cell_type": "code",
      "source": [
        "#Removemos las primera columna que contiene un id que entiendo no vamos a utilizar\n",
        "dfUsr = dfUsrOrig.drop(columns = dfUsrOrig.columns[0], axis = 1, inplace= False)\n",
        "\n",
        "print(\"El nuevo DataFrame tiene una columna menos\")\n",
        "print(dfUsr.shape)\n"
      ],
      "metadata": {
        "id": "AiE6skQ2pf0M",
        "colab": {
          "base_uri": "https://localhost:8080/"
        },
        "outputId": "ccb78bac-5cc1-4a8e-89c1-1726c600e6a5"
      },
      "execution_count": 74,
      "outputs": [
        {
          "output_type": "stream",
          "name": "stdout",
          "text": [
            "El nuevo DataFrame tiene una columna menos\n",
            "(11500, 11)\n"
          ]
        }
      ]
    },
    {
      "cell_type": "markdown",
      "source": [
        "**#La columna user_id debería contener valores únicos y es la base para el análisis**"
      ],
      "metadata": {
        "id": "JYuZri5mwIp0"
      }
    },
    {
      "cell_type": "code",
      "source": [
        "#Vamos a analizar la columna user_id y ordenamos esa columna\n",
        "dfUsr.sort_values('user_id', inplace= True)\n",
        "print(\"\\nLa diferencia entre count y unique nos indica que hay valores duplicados\")\n",
        "print(dfUsr['user_id'].describe())\n",
        "\n",
        "print(\"\\nObservamos una muestra aleatoria de 50 registros\")\n",
        "pd.set_option('display.max_rows', None)\n",
        "print(dfUsr['user_id'].sample(n=50))"
      ],
      "metadata": {
        "colab": {
          "base_uri": "https://localhost:8080/"
        },
        "id": "hM5qCqktc5Cy",
        "outputId": "7707bf55-9808-48f2-993f-ed81ef0d931a"
      },
      "execution_count": 75,
      "outputs": [
        {
          "output_type": "stream",
          "name": "stdout",
          "text": [
            "\n",
            "La diferencia entre count y unique nos indica que hay valores duplicados\n",
            "count             11500\n",
            "unique            11000\n",
            "top       MLB7852379180\n",
            "freq                  2\n",
            "Name: user_id, dtype: object\n",
            "\n",
            "Observamos una muestra aleatoria de 50 registros\n",
            "739        MLB10649060560\n",
            "11408      MLB10440363350\n",
            "4317        MLB7275097870\n",
            "9786        MLB3591674470\n",
            "5683       MLB10610334460\n",
            "1524       MLB10606989850\n",
            "2675        MLB7873934480\n",
            "8217       MLB10087877450\n",
            "6600       MLB10550328430\n",
            "4883        MLB3923892040\n",
            "4849        MLB1505007620\n",
            "8908        MLB7872988990\n",
            "10134     MLB2420581460-1\n",
            "7218        MLB1836410930\n",
            "10200    MLB10509231250-1\n",
            "5834        MLB6577968990\n",
            "10639    MLB10595573270-1\n",
            "9779        MLB7244228440\n",
            "8052        MLB4747863010\n",
            "8696       MLB10596912220\n",
            "6687        MLB8053239810\n",
            "11420       MLB8027142280\n",
            "9466        MLB2926148510\n",
            "9276        MLB1143453780\n",
            "6422        MLB2557432640\n",
            "159         MLB7922125460\n",
            "10414     MLB5366816250-1\n",
            "1212         MLB257279560\n",
            "6621         MLB661708060\n",
            "2804       MLB10559078600\n",
            "3015       MLB10656210220\n",
            "4489       MLB10588249060\n",
            "3266       MLB10630061730\n",
            "9799        MLB7565449000\n",
            "8111        MLB2545601600\n",
            "6671       MLB10448489790\n",
            "4015        MLB7188467150\n",
            "6453        MLB2639787870\n",
            "6214        MLB1636075970\n",
            "431         MLB5078059810\n",
            "8894        MLB3477800310\n",
            "7344       MLB10610948120\n",
            "6626        MLB4586844090\n",
            "4201        MLB4532268740\n",
            "9052        MLB1621042230\n",
            "7063       MLB10567521620\n",
            "4866       MLB10323290590\n",
            "10792     MLB5739479620-1\n",
            "1542       MLB10491160760\n",
            "7080        MLB3368141450\n",
            "Name: user_id, dtype: object\n"
          ]
        }
      ]
    },
    {
      "cell_type": "code",
      "source": [
        "#En algunos registros aparece '-1' al final lo que probablemente se trata de un error\n",
        "#Reemplazamos los caracteres '-1' \n",
        "dfUsr['user_id'] = dfUsr['user_id'].str.replace('-1','')\n",
        "\n",
        "#Vamos a verificar que el campo user_id tenga valores únicos\n",
        "print(\"Cantidad total registros\")\n",
        "print(len(dfUsr['user_id']))\n",
        "\n",
        "print(\"\\nCandidad registros únicos\")\n",
        "print( len(dfUsr['user_id'].unique()) )\n",
        "\n",
        "#Cómo han aparecido duplicados vamos a eliminarlos.\n",
        "dfUsr.drop_duplicates(subset='user_id', inplace=True, keep='first')\n",
        "\n",
        "print(\"\\nNueva cantidad total registros sin duplicados\")\n",
        "print(len(dfUsr['user_id']))\n"
      ],
      "metadata": {
        "id": "G6R7WW1wrbVU",
        "colab": {
          "base_uri": "https://localhost:8080/"
        },
        "outputId": "d09d7084-2afb-4128-9c31-6cbec61f1918"
      },
      "execution_count": 76,
      "outputs": [
        {
          "output_type": "stream",
          "name": "stdout",
          "text": [
            "Cantidad total registros\n",
            "11500\n",
            "\n",
            "Candidad registros únicos\n",
            "10000\n",
            "\n",
            "Nueva cantidad total registros sin duplicados\n",
            "10000\n"
          ]
        }
      ]
    },
    {
      "cell_type": "markdown",
      "source": [
        "**#Comenzamos el análisis de otras columnas**"
      ],
      "metadata": {
        "id": "GF9ntYwvwkh8"
      }
    },
    {
      "cell_type": "code",
      "source": [
        "# Convertimos la columna hábito en entero de acuerdo a las especificaciones\n",
        "# antes llenamos con 0 los valores nulos en esta columna\n",
        "display(dfUsr.dtypes)\n",
        "\n",
        "dfUsr['habito'] = dfUsr['habito'].fillna(0.0).astype(int)\n",
        "  \n",
        "print('\\nVerificamos los cambios')\n",
        "display(dfUsr.dtypes)"
      ],
      "metadata": {
        "id": "jUpqMcjHp4jb",
        "colab": {
          "base_uri": "https://localhost:8080/",
          "height": 468
        },
        "outputId": "76cfeeac-a567-43c5-bd37-4a16f96c4fe6"
      },
      "execution_count": 77,
      "outputs": [
        {
          "output_type": "display_data",
          "data": {
            "text/plain": [
              "first_login_dt     object\n",
              "week_year           int64\n",
              "user_id            object\n",
              "habito            float64\n",
              "habito_dt          object\n",
              "activacion          int64\n",
              "activacion_dt      object\n",
              "setup               int64\n",
              "setup_dt           object\n",
              "return              int64\n",
              "return_dt          object\n",
              "dtype: object"
            ]
          },
          "metadata": {}
        },
        {
          "output_type": "stream",
          "name": "stdout",
          "text": [
            "\n",
            "Verificamos los cambios\n"
          ]
        },
        {
          "output_type": "display_data",
          "data": {
            "text/plain": [
              "first_login_dt    object\n",
              "week_year          int64\n",
              "user_id           object\n",
              "habito             int64\n",
              "habito_dt         object\n",
              "activacion         int64\n",
              "activacion_dt     object\n",
              "setup              int64\n",
              "setup_dt          object\n",
              "return             int64\n",
              "return_dt         object\n",
              "dtype: object"
            ]
          },
          "metadata": {}
        }
      ]
    },
    {
      "cell_type": "code",
      "source": [
        "# Convertimos en date los datos date-time en las columnas fecha \"_dt\". \n",
        "# ya que haciendo una inspección rápida del csv se observa que no hay horas\n",
        "\n",
        "dfUsr['first_login_dt'] = pd.to_datetime(dfUsr['first_login_dt']).dt.date\n",
        "dfUsr['habito_dt'] = pd.to_datetime(dfUsr['habito_dt']).dt.date\n",
        "dfUsr['activacion_dt'] = pd.to_datetime(dfUsr['activacion_dt']).dt.date\n",
        "dfUsr['setup_dt'] = pd.to_datetime(dfUsr['setup_dt']).dt.date\n",
        "dfUsr['return_dt'] = pd.to_datetime(dfUsr['return_dt']).dt.date\n"
      ],
      "metadata": {
        "id": "_e6pZcb-qFR1"
      },
      "execution_count": 78,
      "outputs": []
    },
    {
      "cell_type": "code",
      "source": [
        "# Como no está muy claro su contenido vamos a analizar la columna week_year\n",
        "dfUsr['week_year'].agg(['mean', 'max', 'min'])"
      ],
      "metadata": {
        "colab": {
          "base_uri": "https://localhost:8080/"
        },
        "id": "ZFUHq_PHnDo_",
        "outputId": "0241922e-9060-478f-d6e3-80a8ba7d2f22"
      },
      "execution_count": 79,
      "outputs": [
        {
          "output_type": "execute_result",
          "data": {
            "text/plain": [
              "mean     4.3559\n",
              "max     52.0000\n",
              "min      1.0000\n",
              "Name: week_year, dtype: float64"
            ]
          },
          "metadata": {},
          "execution_count": 79
        }
      ]
    },
    {
      "cell_type": "code",
      "source": [
        "#Los datos son de enero, no puede haber registros con el valor 52 en semana\n",
        "print(\"Cantidad de registros con error en semana\")\n",
        "print(len(dfUsr[dfUsr['week_year']==52]))\n",
        "\n",
        "print(dfUsr[dfUsr['week_year']==52].sample(n=25))\n"
      ],
      "metadata": {
        "id": "akyGyTkzoTtr",
        "colab": {
          "base_uri": "https://localhost:8080/"
        },
        "outputId": "f20b6a06-a234-4431-aec0-40ba263d02ed"
      },
      "execution_count": 80,
      "outputs": [
        {
          "output_type": "stream",
          "name": "stdout",
          "text": [
            "Cantidad de registros con error en semana\n",
            "350\n",
            "     first_login_dt  week_year         user_id  habito   habito_dt  \\\n",
            "5011     2022-01-02         52   MLB3180602990       0         NaT   \n",
            "5995     2022-01-01         52   MLB8192620260       1  2022-01-16   \n",
            "434      2022-01-01         52   MLB7910736460       0         NaT   \n",
            "7520     2022-01-02         52   MLB2331168150       0         NaT   \n",
            "2384     2022-01-01         52   MLB5825660130       0         NaT   \n",
            "4006     2022-01-01         52  MLB10451365630       0         NaT   \n",
            "3591     2022-01-02         52  MLB10497054300       0         NaT   \n",
            "9046     2022-01-02         52   MLB6689231760       0         NaT   \n",
            "867      2022-01-02         52   MLB3837569220       1  2022-01-03   \n",
            "8753     2022-01-01         52   MLB8020376660       0         NaT   \n",
            "5591     2022-01-02         52    MLB938961270       0         NaT   \n",
            "9876     2022-01-02         52   MLB1826552600       0         NaT   \n",
            "5152     2022-01-02         52  MLB10251370320       0         NaT   \n",
            "7521     2022-01-02         52  MLB10362504900       0         NaT   \n",
            "5996     2022-01-01         52   MLB5538575260       0         NaT   \n",
            "4512     2022-01-01         52   MLB1948090240       0         NaT   \n",
            "448      2022-01-02         52    MLB317938200       0         NaT   \n",
            "8352     2022-01-02         52  MLB10498213080       0         NaT   \n",
            "3748     2022-01-02         52  MLB10327021110       0         NaT   \n",
            "9198     2022-01-02         52  MLB10499776280       0         NaT   \n",
            "8901     2022-01-01         52   MLB5163438110       1  2022-01-20   \n",
            "6995     2022-01-01         52   MLB1323405560       0         NaT   \n",
            "3334     2022-01-02         52   MLB7073188830       1  2022-01-19   \n",
            "6161     2022-01-02         52    MLB746913100       0         NaT   \n",
            "9715     2022-01-01         52   MLB3917439490       0         NaT   \n",
            "\n",
            "      activacion activacion_dt  setup    setup_dt  return   return_dt  \n",
            "5011           1    2022-01-02      1  2022-01-07       1  2022-01-07  \n",
            "5995           1    2022-01-09      1  2022-01-02       1  2022-01-02  \n",
            "434            0           NaT      0         NaT       1  2022-01-13  \n",
            "7520           1    2022-01-02      0         NaT       1  2022-01-15  \n",
            "2384           0           NaT      0         NaT       1  2022-01-31  \n",
            "4006           1    2022-01-02      1  2022-01-01       1  2022-01-02  \n",
            "3591           0           NaT      1  2022-01-02       0         NaT  \n",
            "9046           0           NaT      0         NaT       0         NaT  \n",
            "867            1    2022-01-02      1  2022-01-02       1  2022-01-03  \n",
            "8753           0           NaT      1  2022-01-01       0         NaT  \n",
            "5591           1    2022-01-14      1  2022-01-03       1  2022-01-03  \n",
            "9876           1    2022-01-04      1  2022-01-04       1  2022-01-04  \n",
            "5152           0           NaT      0         NaT       1  2022-01-15  \n",
            "7521           1    2022-01-07      0         NaT       1  2022-01-04  \n",
            "5996           0           NaT      1  2022-01-09       1  2022-01-09  \n",
            "4512           0           NaT      1  2022-01-01       0         NaT  \n",
            "448            0           NaT      0         NaT       0         NaT  \n",
            "8352           0           NaT      0         NaT       1  2022-01-03  \n",
            "3748           0           NaT      1  2022-01-09       1  2022-01-03  \n",
            "9198           0           NaT      1  2022-01-03       1  2022-01-04  \n",
            "8901           1    2022-01-01      1  2022-01-10       1  2022-01-02  \n",
            "6995           1    2022-01-01      0         NaT       1  2022-01-09  \n",
            "3334           1    2022-01-10      1  2022-01-18       1  2022-01-03  \n",
            "6161           0           NaT      0         NaT       1  2022-01-03  \n",
            "9715           0           NaT      0         NaT       1  2022-01-02  \n"
          ]
        }
      ]
    },
    {
      "cell_type": "code",
      "source": [
        "#Vemos que los registros con semana 52 corresponden al 1 y 2 de enero\n",
        "#Como son los primeros días del año quedaron con la última semana del anterior. \n",
        "#Debemos reemplazar 52 por 1\n",
        "dfUsr.loc[dfUsr[\"week_year\"] == 52, \"week_year\"] = 1\n",
        "\n",
        "print(\"Cantidad de registros con error en semana\")\n",
        "print(len(dfUsr[dfUsr['week_year']==52]))\n"
      ],
      "metadata": {
        "id": "FEweOSygJ249",
        "colab": {
          "base_uri": "https://localhost:8080/"
        },
        "outputId": "06c45a72-df94-41c1-9e44-bbc35b1410cc"
      },
      "execution_count": 81,
      "outputs": [
        {
          "output_type": "stream",
          "name": "stdout",
          "text": [
            "Cantidad de registros con error en semana\n",
            "0\n"
          ]
        }
      ]
    },
    {
      "cell_type": "markdown",
      "source": [
        "**#Ahora hacemos un control con las fechas. Las fechas en las columnas activacion, setup, habito y return deben ser mayores o iguales a la fecha de first_login**"
      ],
      "metadata": {
        "id": "j17o55ixw3-z"
      }
    },
    {
      "cell_type": "code",
      "source": [
        "#Creamos una nueva columna min_dt en el dataset con la menor fecha entre activación, setup, habito y return\n",
        "def calc_new_col(row):\n",
        "    columnas = ['activacion_dt', 'setup_dt', 'habito_dt', 'return_dt']\n",
        "    min_dt = row['first_login_dt']\n",
        "    for col in columnas:\n",
        "        if row[col] is not pd.NaT:\n",
        "          if row[col] < min_dt:\n",
        "              min_dt = row[col]\n",
        "    return min_dt\n",
        "\n",
        "dfUsr[\"min_dt\"] = dfUsr.apply(calc_new_col, axis=1)\n",
        "print(dfUsr.head()) \n",
        "print(dfUsr.shape) \n"
      ],
      "metadata": {
        "colab": {
          "base_uri": "https://localhost:8080/"
        },
        "id": "hfybqrsTQoH2",
        "outputId": "0d69e5dc-5b26-4f91-c146-51dd6df038a0"
      },
      "execution_count": 82,
      "outputs": [
        {
          "output_type": "stream",
          "name": "stdout",
          "text": [
            "     first_login_dt  week_year         user_id  habito   habito_dt  \\\n",
            "5561     2022-01-13          2  MLB10001480800       0         NaT   \n",
            "9631     2022-01-06          1  MLB10001530370       0         NaT   \n",
            "5035     2022-01-05          1  MLB10002487550       1  2022-01-18   \n",
            "8479     2022-01-07          1  MLB10002855700       0         NaT   \n",
            "3189     2022-01-15          2  MLB10003112290       0         NaT   \n",
            "\n",
            "      activacion activacion_dt  setup    setup_dt  return   return_dt  \\\n",
            "5561           1    2022-01-13      0         NaT       0         NaT   \n",
            "9631           1    2022-01-06      0         NaT       1  2022-01-13   \n",
            "5035           1    2022-01-07      1  2022-01-08       1  2022-01-06   \n",
            "8479           0           NaT      0         NaT       0         NaT   \n",
            "3189           0           NaT      0         NaT       0         NaT   \n",
            "\n",
            "          min_dt  \n",
            "5561  2022-01-13  \n",
            "9631  2022-01-06  \n",
            "5035  2022-01-05  \n",
            "8479  2022-01-07  \n",
            "3189  2022-01-15  \n",
            "(10000, 12)\n"
          ]
        }
      ]
    },
    {
      "cell_type": "code",
      "source": [
        "print('Tamaño del dataset')\n",
        "print(dfUsr.shape) \n",
        "\n",
        "#Creamos una serie con el índice de los registros con problemas de fecha\n",
        "indexUsr = dfUsr[ dfUsr['min_dt'] < dfUsr['first_login_dt']].index\n",
        "print('\\nCantidad de filas con problemas de fecha')\n",
        "print(indexUsr.shape) \n",
        "\n",
        "#Creamos un nuevo DataFrame borrando los registros con problemas detectados en el punto anterior\n",
        "dfUsrFinal = dfUsr.drop(indexUsr)\n",
        "\n",
        "print('\\nResumen de archivo con los registros borrados')\n",
        "print(dfUsrFinal.shape)\n",
        "\n",
        "print(dfUsrFinal.head(15))"
      ],
      "metadata": {
        "colab": {
          "base_uri": "https://localhost:8080/"
        },
        "id": "Qso9D5yXk6PB",
        "outputId": "c6b9252a-025f-4d93-dc42-498d368d1276"
      },
      "execution_count": 83,
      "outputs": [
        {
          "output_type": "stream",
          "name": "stdout",
          "text": [
            "Tamaño del dataset\n",
            "(10000, 12)\n",
            "\n",
            "Cantidad de filas con problemas de fecha\n",
            "(364,)\n",
            "\n",
            "Resumen de archivo con los registros borrados\n",
            "(9636, 12)\n",
            "     first_login_dt  week_year         user_id  habito   habito_dt  \\\n",
            "5561     2022-01-13          2  MLB10001480800       0         NaT   \n",
            "9631     2022-01-06          1  MLB10001530370       0         NaT   \n",
            "5035     2022-01-05          1  MLB10002487550       1  2022-01-18   \n",
            "8479     2022-01-07          1  MLB10002855700       0         NaT   \n",
            "3189     2022-01-15          2  MLB10003112290       0         NaT   \n",
            "3103     2022-01-19          3  MLB10003554750       1  2022-02-08   \n",
            "7609     2022-01-21          3  MLB10003698160       0         NaT   \n",
            "2770     2022-01-02          1  MLB10004252630       0         NaT   \n",
            "4929     2022-01-19          3  MLB10004759110       0         NaT   \n",
            "2343     2022-01-26          4  MLB10005576530       0         NaT   \n",
            "5950     2022-01-10          2  MLB10006217790       1  2022-01-23   \n",
            "7859     2022-01-20          3  MLB10007151650       0         NaT   \n",
            "857      2022-01-07          1  MLB10010599840       0         NaT   \n",
            "4609     2022-01-17          3  MLB10011098280       0         NaT   \n",
            "156      2022-01-28          4  MLB10011728560       0         NaT   \n",
            "\n",
            "      activacion activacion_dt  setup    setup_dt  return   return_dt  \\\n",
            "5561           1    2022-01-13      0         NaT       0         NaT   \n",
            "9631           1    2022-01-06      0         NaT       1  2022-01-13   \n",
            "5035           1    2022-01-07      1  2022-01-08       1  2022-01-06   \n",
            "8479           0           NaT      0         NaT       0         NaT   \n",
            "3189           0           NaT      0         NaT       0         NaT   \n",
            "3103           1    2022-01-19      1  2022-01-19       1  2022-01-21   \n",
            "7609           0           NaT      1  2022-01-22       1  2022-01-22   \n",
            "2770           1    2022-01-29      1  2022-01-29       1  2022-01-29   \n",
            "4929           0           NaT      1  2022-01-19       1  2022-01-20   \n",
            "2343           1    2022-01-26      0         NaT       1  2022-02-08   \n",
            "5950           1    2022-01-11      1  2022-01-10       1  2022-01-11   \n",
            "7859           0           NaT      0         NaT       1  2022-01-21   \n",
            "857            0           NaT      1  2022-01-07       1  2022-01-08   \n",
            "4609           0           NaT      1  2022-01-17       0         NaT   \n",
            "156            0           NaT      0         NaT       1  2022-01-31   \n",
            "\n",
            "          min_dt  \n",
            "5561  2022-01-13  \n",
            "9631  2022-01-06  \n",
            "5035  2022-01-05  \n",
            "8479  2022-01-07  \n",
            "3189  2022-01-15  \n",
            "3103  2022-01-19  \n",
            "7609  2022-01-21  \n",
            "2770  2022-01-02  \n",
            "4929  2022-01-19  \n",
            "2343  2022-01-26  \n",
            "5950  2022-01-10  \n",
            "7859  2022-01-20  \n",
            "857   2022-01-07  \n",
            "4609  2022-01-17  \n",
            "156   2022-01-28  \n"
          ]
        }
      ]
    },
    {
      "cell_type": "markdown",
      "source": [
        "**#Ahora vamos a crear columnas con la cantidad de días que trancurren entre las fechas del archivo y la de forst_login**"
      ],
      "metadata": {
        "id": "kS67VhUcyOxz"
      }
    },
    {
      "cell_type": "code",
      "source": [
        "dfUsrFinal['activacion_dias'] = (dfUsrFinal['activacion_dt']-dfUsrFinal['first_login_dt']).dt.days\n",
        "dfUsrFinal['setup_dias'] = (dfUsrFinal['setup_dt']-dfUsrFinal['first_login_dt']).dt.days\n",
        "dfUsrFinal['return_dias'] = (dfUsrFinal['return_dt']-dfUsrFinal['first_login_dt']).dt.days\n",
        "dfUsrFinal['habito_dias'] = (dfUsrFinal['habito_dt']-dfUsrFinal['first_login_dt']).dt.days\n",
        "\n",
        "dfUsrFinal['activacion_dias'] = dfUsrFinal['activacion_dias'].fillna(0)\n",
        "dfUsrFinal['activacion_dias'] = dfUsrFinal['activacion_dias'].astype(int) \n",
        "\n",
        "dfUsrFinal['setup_dias'] = dfUsrFinal['setup_dias'].fillna(0)\n",
        "dfUsrFinal['setup_dias'] = dfUsrFinal['setup_dias'].astype(int) \n",
        "\n",
        "dfUsrFinal['return_dias'] = dfUsrFinal['return_dias'].fillna(0)\n",
        "dfUsrFinal['return_dias'] = dfUsrFinal['return_dias'].astype(int) \n",
        "\n",
        "dfUsrFinal['habito_dias'] = dfUsrFinal['habito_dias'].fillna(0)\n",
        "dfUsrFinal['habito_dias'] = dfUsrFinal['habito_dias'].astype(int) \n",
        "\n",
        "print('Observamos el encabezado del nuevo DataFrame')\n",
        "print(dfUsrFinal.head(15))"
      ],
      "metadata": {
        "colab": {
          "base_uri": "https://localhost:8080/"
        },
        "id": "hNZuyIP7hpa7",
        "outputId": "f4dae9b9-36d1-412b-9998-b883646c92eb"
      },
      "execution_count": 84,
      "outputs": [
        {
          "output_type": "stream",
          "name": "stdout",
          "text": [
            "Observamos el encabezado del nuevo DataFrame\n",
            "     first_login_dt  week_year         user_id  habito   habito_dt  \\\n",
            "5561     2022-01-13          2  MLB10001480800       0         NaT   \n",
            "9631     2022-01-06          1  MLB10001530370       0         NaT   \n",
            "5035     2022-01-05          1  MLB10002487550       1  2022-01-18   \n",
            "8479     2022-01-07          1  MLB10002855700       0         NaT   \n",
            "3189     2022-01-15          2  MLB10003112290       0         NaT   \n",
            "3103     2022-01-19          3  MLB10003554750       1  2022-02-08   \n",
            "7609     2022-01-21          3  MLB10003698160       0         NaT   \n",
            "2770     2022-01-02          1  MLB10004252630       0         NaT   \n",
            "4929     2022-01-19          3  MLB10004759110       0         NaT   \n",
            "2343     2022-01-26          4  MLB10005576530       0         NaT   \n",
            "5950     2022-01-10          2  MLB10006217790       1  2022-01-23   \n",
            "7859     2022-01-20          3  MLB10007151650       0         NaT   \n",
            "857      2022-01-07          1  MLB10010599840       0         NaT   \n",
            "4609     2022-01-17          3  MLB10011098280       0         NaT   \n",
            "156      2022-01-28          4  MLB10011728560       0         NaT   \n",
            "\n",
            "      activacion activacion_dt  setup    setup_dt  return   return_dt  \\\n",
            "5561           1    2022-01-13      0         NaT       0         NaT   \n",
            "9631           1    2022-01-06      0         NaT       1  2022-01-13   \n",
            "5035           1    2022-01-07      1  2022-01-08       1  2022-01-06   \n",
            "8479           0           NaT      0         NaT       0         NaT   \n",
            "3189           0           NaT      0         NaT       0         NaT   \n",
            "3103           1    2022-01-19      1  2022-01-19       1  2022-01-21   \n",
            "7609           0           NaT      1  2022-01-22       1  2022-01-22   \n",
            "2770           1    2022-01-29      1  2022-01-29       1  2022-01-29   \n",
            "4929           0           NaT      1  2022-01-19       1  2022-01-20   \n",
            "2343           1    2022-01-26      0         NaT       1  2022-02-08   \n",
            "5950           1    2022-01-11      1  2022-01-10       1  2022-01-11   \n",
            "7859           0           NaT      0         NaT       1  2022-01-21   \n",
            "857            0           NaT      1  2022-01-07       1  2022-01-08   \n",
            "4609           0           NaT      1  2022-01-17       0         NaT   \n",
            "156            0           NaT      0         NaT       1  2022-01-31   \n",
            "\n",
            "          min_dt  activacion_dias  setup_dias  return_dias  habito_dias  \n",
            "5561  2022-01-13                0           0            0            0  \n",
            "9631  2022-01-06                0           0            7            0  \n",
            "5035  2022-01-05                2           3            1           13  \n",
            "8479  2022-01-07                0           0            0            0  \n",
            "3189  2022-01-15                0           0            0            0  \n",
            "3103  2022-01-19                0           0            2           20  \n",
            "7609  2022-01-21                0           1            1            0  \n",
            "2770  2022-01-02               27          27           27            0  \n",
            "4929  2022-01-19                0           0            1            0  \n",
            "2343  2022-01-26                0           0           13            0  \n",
            "5950  2022-01-10                1           0            1           13  \n",
            "7859  2022-01-20                0           0            1            0  \n",
            "857   2022-01-07                0           0            1            0  \n",
            "4609  2022-01-17                0           0            0            0  \n",
            "156   2022-01-28                0           0            3            0  \n"
          ]
        }
      ]
    },
    {
      "cell_type": "markdown",
      "source": [
        "**#Grabamos los resultados del análisis en un nuevo archivo que se utilizará en el reporte**"
      ],
      "metadata": {
        "id": "20pc1bZTytDX"
      }
    },
    {
      "cell_type": "code",
      "source": [
        "dfUsrFinal.to_csv('resultado_final.csv')\n"
      ],
      "metadata": {
        "id": "PUcBcC1yho9W"
      },
      "execution_count": 85,
      "outputs": []
    }
  ]
}