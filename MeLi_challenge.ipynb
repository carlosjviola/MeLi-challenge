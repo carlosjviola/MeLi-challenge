{
  "nbformat": 4,
  "nbformat_minor": 0,
  "metadata": {
    "colab": {
      "provenance": [],
      "mount_file_id": "1Eue_90hUUc_LUhrMg5B0YVrjG9WKpeLs",
      "authorship_tag": "ABX9TyNlJ1Wr2BAcN46cduO4oJGg",
      "include_colab_link": true
    },
    "kernelspec": {
      "name": "python3",
      "display_name": "Python 3"
    },
    "language_info": {
      "name": "python"
    }
  },
  "cells": [
    {
      "cell_type": "markdown",
      "metadata": {
        "id": "view-in-github",
        "colab_type": "text"
      },
      "source": [
        "<a href=\"https://colab.research.google.com/github/carlosjviola/MeLi-challenge/blob/main/MeLi_challenge.ipynb\" target=\"_parent\"><img src=\"https://colab.research.google.com/assets/colab-badge.svg\" alt=\"Open In Colab\"/></a>"
      ]
    },
    {
      "cell_type": "markdown",
      "source": [
        "**MeLi** - Data Visualization & Analytics Challenge\n",
        "\n",
        "Carlos José Viola - 2022/11 \n",
        "\n",
        "[Ver especificaciones](https://drive.google.com/file/d/1CTPIC5OIZ58joVDMG9AYAEecKTCsRtlc/view?usp=share_link)"
      ],
      "metadata": {
        "id": "fFbJS44Qgzq4"
      }
    },
    {
      "cell_type": "markdown",
      "source": [
        "Supuestos / Consideraciones\n",
        "\n",
        "1) El archivo tiene registros correspondientes al mes de enero de 2022 para el campo first_login_dt\n",
        "\n",
        "2) No hay especificaciones para el campo week_year. Se considera corresponde a la semana del año del campo first_login_dt\n",
        "\n",
        "3) Se realizan distintas operaciones de limpieza de datos\n",
        "\n",
        "3) Los registros del 1 y 2 de enero vienen con la semana 52. De acuerdo a lo supuesto en el punto anterior se reemplazarán los valores.\n",
        "\n",
        "4) Removemos "
      ],
      "metadata": {
        "id": "SFyBhLmPjElJ"
      }
    },
    {
      "cell_type": "code",
      "execution_count": 2,
      "metadata": {
        "id": "pHjjQL1_uhsi",
        "colab": {
          "base_uri": "https://localhost:8080/"
        },
        "outputId": "73a5e649-d163-4a76-d332-b7cc2f817469"
      },
      "outputs": [
        {
          "output_type": "stream",
          "name": "stdout",
          "text": [
            "Cantidad de filas y columnas\n",
            "(11500, 12)\n",
            "\n",
            "Muestra las primeras 10 filas\n",
            "   Unnamed: 0 first_login_dt  week_year         user_id  habito habito_dt  \\\n",
            "0           0     2022-01-30          4   MLB2883855850     0.0       NaN   \n",
            "1           1     2022-01-30          4   MLB7059024930     0.0       NaN   \n",
            "2           2     2022-01-07          1   MLB4163269880     0.0       NaN   \n",
            "3           3     2022-01-07          1   MLB7349806870     0.0       NaN   \n",
            "4           4     2022-01-07          1   MLB7239064190     0.0       NaN   \n",
            "5           5     2022-01-01         52  MLB10318536730     0.0       NaN   \n",
            "6           6     2022-01-01         52   MLB7546352300     0.0       NaN   \n",
            "7           7     2022-01-16          2   MLB2785023500     0.0       NaN   \n",
            "8           8     2022-01-16          2   MLB8395954300     0.0       NaN   \n",
            "9           9     2022-01-16          2   MLB1610695500     0.0       NaN   \n",
            "\n",
            "   activacion activacion_dt  setup    setup_dt  return   return_dt  \n",
            "0           1    2022-01-30      1  2022-01-30       0         NaN  \n",
            "1           1    2022-03-02      0         NaN       0         NaN  \n",
            "2           0           NaN      0         NaN       1  2022-01-08  \n",
            "3           0           NaN      0         NaN       1  2022-01-08  \n",
            "4           1    2022-01-07      0         NaN       1  2022-01-08  \n",
            "5           0           NaN      0         NaN       0         NaN  \n",
            "6           0           NaN      1  2022-01-01       1  2022-01-03  \n",
            "7           1    2022-01-16      0         NaN       1  2022-01-17  \n",
            "8           0           NaN      1  2022-01-16       0         NaN  \n",
            "9           1    2022-01-16      0         NaN       0         NaN  \n",
            "\n",
            "Muestra las últimas 10 filas\n",
            "   Unnamed: 0 first_login_dt  week_year         user_id  habito habito_dt  \\\n",
            "0           0     2022-01-30          4   MLB2883855850     0.0       NaN   \n",
            "1           1     2022-01-30          4   MLB7059024930     0.0       NaN   \n",
            "2           2     2022-01-07          1   MLB4163269880     0.0       NaN   \n",
            "3           3     2022-01-07          1   MLB7349806870     0.0       NaN   \n",
            "4           4     2022-01-07          1   MLB7239064190     0.0       NaN   \n",
            "5           5     2022-01-01         52  MLB10318536730     0.0       NaN   \n",
            "6           6     2022-01-01         52   MLB7546352300     0.0       NaN   \n",
            "7           7     2022-01-16          2   MLB2785023500     0.0       NaN   \n",
            "8           8     2022-01-16          2   MLB8395954300     0.0       NaN   \n",
            "9           9     2022-01-16          2   MLB1610695500     0.0       NaN   \n",
            "\n",
            "   activacion activacion_dt  setup    setup_dt  return   return_dt  \n",
            "0           1    2022-01-30      1  2022-01-30       0         NaN  \n",
            "1           1    2022-03-02      0         NaN       0         NaN  \n",
            "2           0           NaN      0         NaN       1  2022-01-08  \n",
            "3           0           NaN      0         NaN       1  2022-01-08  \n",
            "4           1    2022-01-07      0         NaN       1  2022-01-08  \n",
            "5           0           NaN      0         NaN       0         NaN  \n",
            "6           0           NaN      1  2022-01-01       1  2022-01-03  \n",
            "7           1    2022-01-16      0         NaN       1  2022-01-17  \n",
            "8           0           NaN      1  2022-01-16       0         NaN  \n",
            "9           1    2022-01-16      0         NaN       0         NaN  \n"
          ]
        }
      ],
      "source": [
        "\n",
        "import pandas as pd\n",
        "import numpy as np\n",
        "from datetime import date\n",
        "\n",
        "# Se crea una variable para almacenar nombre del archivo a analizar\n",
        "archivoCsv = 'https://raw.githubusercontent.com/carlosjviola/MeLi-challenge/main/dataset_challenge_analytics.csv'\n",
        "# Cargamos el archivo en un DataFrame de Pandas realizar el estudio\n",
        "dfUsrOrig = pd.read_csv(archivoCsv)\n",
        "\n",
        "#Vemos el tamaño del archivo (filas, columnas) y los primeros 5 registros del mismo\n",
        "print(\"Cantidad de filas y columnas\")\n",
        "print(dfUsrOrig.shape)\n",
        "\n",
        "print(\"\\nMuestra las primeras 10 filas\")\n",
        "print(dfUsrOrig.head(10))\n",
        "\n",
        "print(\"\\nMuestra las últimas 10 filas\")\n",
        "print(dfUsrOrig.head(10))"
      ]
    },
    {
      "cell_type": "code",
      "source": [
        "#Removemos las primera columna que contiene un id que entiendo no vamos a utilizar\n",
        "dfUsr = dfUsrOrig.drop(columns = dfUsrOrig.columns[0], axis = 1, inplace= False)\n",
        "\n",
        "print(\"El nuevo DataFrame tiene una columna menos\")\n",
        "print(dfUsr.shape)\n"
      ],
      "metadata": {
        "id": "AiE6skQ2pf0M",
        "colab": {
          "base_uri": "https://localhost:8080/"
        },
        "outputId": "fccd4a65-4b05-4141-e0ae-b1aea67f3101"
      },
      "execution_count": null,
      "outputs": [
        {
          "output_type": "stream",
          "name": "stdout",
          "text": [
            "El nuevo DataFrame tiene una columna menos\n",
            "(11500, 11)\n"
          ]
        }
      ]
    },
    {
      "cell_type": "code",
      "source": [
        "#Vamos a analizar la columna user_id y ordenamos esa columna\n",
        "dfUsr.sort_values('user_id', inplace= True)\n",
        "print(dfUsr['user_id'].head(10))\n",
        "print(dfUsr['user_id'].tail(10))\n",
        "\n",
        "print(dfUsr['user_id'].sample(n=100))"
      ],
      "metadata": {
        "colab": {
          "base_uri": "https://localhost:8080/"
        },
        "id": "hM5qCqktc5Cy",
        "outputId": "11a4432d-e792-4ca3-b6c2-2aaca5b43734"
      },
      "execution_count": null,
      "outputs": [
        {
          "output_type": "stream",
          "name": "stdout",
          "text": [
            "5561    MLB10001480800\n",
            "9631    MLB10001530370\n",
            "5035    MLB10002487550\n",
            "8479    MLB10002855700\n",
            "3189    MLB10003112290\n",
            "3103    MLB10003554750\n",
            "7609    MLB10003698160\n",
            "2770    MLB10004252630\n",
            "4929    MLB10004759110\n",
            "2343    MLB10005576530\n",
            "Name: user_id, dtype: object\n",
            "10269    MLB988455940-1\n",
            "3478       MLB988498130\n",
            "3896       MLB990480920\n",
            "2104       MLB991448540\n",
            "2393       MLB991879190\n",
            "7881       MLB995538640\n",
            "1206       MLB995826480\n",
            "11206      MLB995826480\n",
            "8786       MLB997458170\n",
            "4300       MLB999142060\n",
            "Name: user_id, dtype: object\n",
            "9442        MLB2092484360\n",
            "5988       MLB10531203970\n",
            "10822     MLB2683679600-1\n",
            "7318        MLB7762051130\n",
            "2276        MLB2341408400\n",
            "               ...       \n",
            "6530       MLB10655605650\n",
            "10416     MLB2458144930-1\n",
            "10745    MLB10517994170-1\n",
            "220         MLB2794998380\n",
            "2088        MLB7270346260\n",
            "Name: user_id, Length: 100, dtype: object\n"
          ]
        }
      ]
    },
    {
      "cell_type": "code",
      "source": [
        "#Reemplazamos los caracteres '-1' que aparecen al final de algunas líneas\n",
        "dfUsr['user_id'] = dfUsr['user_id'].str.replace('-1','')\n",
        "\n",
        "#Vamos a verificar que el campo user_id tenga valores únicos\n",
        "print(\"Cantidad total registros\")\n",
        "print(len(dfUsr['user_id']))\n",
        "\n",
        "print(\"\\Candidad registros únicos\")\n",
        "print( len(dfUsr['user_id'].unique()) )\n",
        "\n",
        "#Cómo han aparecido duplicados vamos a eliminarlos.\n",
        "#Para esto creamos una serie que identifique los duplicados\n",
        "lSerie = dfUsr['user_id'].duplicated(keep = False) \n",
        " \n",
        "dfUsr = dfUsr[~lSerie] \n",
        "\n",
        "print(\"Nueva cantidad total registros\")\n",
        "print(len(dfUsr['user_id']))\n",
        "\n"
      ],
      "metadata": {
        "id": "G6R7WW1wrbVU",
        "colab": {
          "base_uri": "https://localhost:8080/"
        },
        "outputId": "ba499e10-4538-4c99-c3d7-4c9a56cb72fc"
      },
      "execution_count": null,
      "outputs": [
        {
          "output_type": "stream",
          "name": "stdout",
          "text": [
            "Cantidad total registros\n",
            "8500\n",
            "\\Candidad registros únicos\n",
            "8500\n",
            "Nueva cantidad total registros\n",
            "8500\n"
          ]
        }
      ]
    },
    {
      "cell_type": "code",
      "source": [
        "# Convertimos la columna hábito en entero de acuerdo a las especificaciones\n",
        "# antes llenamos con 0 los valores nulos en esta columna\n",
        "dfUsr['habito'] = dfUsr['habito'].fillna(0.0).astype(int)\n",
        "  \n",
        "# Verificamos los cambios\n",
        "display(dfUsr.dtypes)"
      ],
      "metadata": {
        "id": "jUpqMcjHp4jb",
        "colab": {
          "base_uri": "https://localhost:8080/",
          "height": 225
        },
        "outputId": "d52b67f1-b1f0-4052-a551-f8fd5763bc9d"
      },
      "execution_count": null,
      "outputs": [
        {
          "output_type": "display_data",
          "data": {
            "text/plain": [
              "first_login_dt    object\n",
              "week_year          int64\n",
              "user_id           object\n",
              "habito             int64\n",
              "habito_dt         object\n",
              "activacion         int64\n",
              "activacion_dt     object\n",
              "setup              int64\n",
              "setup_dt          object\n",
              "return             int64\n",
              "return_dt         object\n",
              "dtype: object"
            ]
          },
          "metadata": {}
        }
      ]
    },
    {
      "cell_type": "code",
      "source": [
        "# Convertimos en date los datos date-time en las columnas fecha. Haciendo una inspección rápida del csv se observa que no hay horas\n",
        "dfUsr['first_login_dt'] = pd.to_datetime(dfUsr['first_login_dt']).dt.date\n",
        "dfUsr['habito_dt'] = pd.to_datetime(dfUsr['habito_dt']).dt.date\n",
        "dfUsr['activacion_dt'] = pd.to_datetime(dfUsr['activacion_dt']).dt.date\n",
        "dfUsr['setup_dt'] = pd.to_datetime(dfUsr['setup_dt']).dt.date\n",
        "dfUsr['return_dt'] = pd.to_datetime(dfUsr['return_dt']).dt.date\n"
      ],
      "metadata": {
        "id": "_e6pZcb-qFR1"
      },
      "execution_count": null,
      "outputs": []
    },
    {
      "cell_type": "code",
      "source": [
        "# Como no está muy claro su contenido vamos a analizar la columna week_year\n",
        "dfUsr['week_year'].agg(['mean', 'max', 'min'])"
      ],
      "metadata": {
        "colab": {
          "base_uri": "https://localhost:8080/"
        },
        "id": "ZFUHq_PHnDo_",
        "outputId": "1430ce2b-67e3-49be-aee2-cf88b6c3645e"
      },
      "execution_count": null,
      "outputs": [
        {
          "output_type": "execute_result",
          "data": {
            "text/plain": [
              "mean     4.348471\n",
              "max     52.000000\n",
              "min      1.000000\n",
              "Name: week_year, dtype: float64"
            ]
          },
          "metadata": {},
          "execution_count": 56
        }
      ]
    },
    {
      "cell_type": "code",
      "source": [
        "#Los datos son de enero, no puede haber registros con el valor 52 en la semana\n",
        "print(dfUsr[dfUsr['week_year']==52])"
      ],
      "metadata": {
        "id": "akyGyTkzoTtr",
        "colab": {
          "base_uri": "https://localhost:8080/"
        },
        "outputId": "442ff58c-c9fc-4ba5-b803-8df474cefb7b"
      },
      "execution_count": null,
      "outputs": [
        {
          "output_type": "stream",
          "name": "stdout",
          "text": [
            "     first_login_dt  week_year         user_id  habito habito_dt  activacion  \\\n",
            "2770     2022-01-02         52  MLB10004252630       0       NaT           1   \n",
            "9577     2022-01-01         52  MLB10019564580       0       NaT           0   \n",
            "5717     2022-01-01         52  MLB10064714530       0       NaT           0   \n",
            "3170     2022-01-01         52  MLB10074070400       0       NaT           0   \n",
            "4404     2022-01-02         52  MLB10088145650       0       NaT           1   \n",
            "...             ...        ...             ...     ...       ...         ...   \n",
            "4280     2022-01-02         52   MLB8381923230       0       NaT           1   \n",
            "7115     2022-01-01         52    MLB852124930       0       NaT           1   \n",
            "5591     2022-01-02         52    MLB938961270       0       NaT           1   \n",
            "4761     2022-01-01         52    MLB949054360       0       NaT           1   \n",
            "5733     2022-01-02         52    MLB950258540       0       NaT           0   \n",
            "\n",
            "     activacion_dt  setup    setup_dt  return   return_dt  \n",
            "2770    2022-01-29      1  2022-01-29       1  2022-01-29  \n",
            "9577           NaT      1  2022-01-01       1  2022-01-11  \n",
            "5717           NaT      1  2022-01-01       1  2022-01-25  \n",
            "3170           NaT      0         NaT       0         NaT  \n",
            "4404    2022-01-02      0         NaT       1  2022-01-10  \n",
            "...            ...    ...         ...     ...         ...  \n",
            "4280    2022-02-02      0         NaT       1  2022-01-03  \n",
            "7115    2022-01-27      1  2022-01-02       0         NaT  \n",
            "5591    2022-01-14      1  2022-01-03       1  2022-01-03  \n",
            "4761    2022-01-12      0         NaT       1  2022-01-06  \n",
            "5733           NaT      0         NaT       0         NaT  \n",
            "\n",
            "[295 rows x 11 columns]\n"
          ]
        }
      ]
    },
    {
      "cell_type": "code",
      "source": [],
      "metadata": {
        "id": "FEweOSygJ249"
      },
      "execution_count": null,
      "outputs": []
    },
    {
      "cell_type": "code",
      "source": [
        "#dfError = dfUsr[ dfUsr['activacion_dt'] < dfUsr['first_login_dt']]\n",
        "def calc_new_col(row):\n",
        "    columnas = ['activacion_dt', 'setup_dt', 'habito_dt', 'return_dt']\n",
        "    max_dt = date.min \n",
        "    for col in columnas:\n",
        "        if row[col] > max_dt:\n",
        "            max_dt = row[col]\n",
        "    return max_dt\n",
        "    #return max(row['col1'], row['col2'], row['col3'])\n",
        "\n",
        "dfUsr[\"max_dt\"] = dfUsr.apply(calc_new_col, axis=1)\n",
        "print(dfUsr.head()) \n",
        "print(dfUsr.shape) \n",
        "\n",
        "# printing the dataframe\n",
        "#print(dfUsr)\n",
        "#print(dfUsr.count())\n",
        "#print(dfUsr['return_dt'].notnull().sum())\n"
      ],
      "metadata": {
        "colab": {
          "base_uri": "https://localhost:8080/"
        },
        "id": "hfybqrsTQoH2",
        "outputId": "eff3c9bc-cfb3-4096-b9ca-8948907bfbeb"
      },
      "execution_count": null,
      "outputs": [
        {
          "output_type": "stream",
          "name": "stderr",
          "text": [
            "/usr/local/lib/python3.7/dist-packages/ipykernel_launcher.py:8: FutureWarning: Comparison of NaT with datetime.date is deprecated in order to match the standard library behavior.  In a future version these will be considered non-comparable.\n",
            "  \n"
          ]
        },
        {
          "output_type": "stream",
          "name": "stdout",
          "text": [
            "    first_login_dt  week_year        user_id  habito habito_dt  activacion  \\\n",
            "30      2022-01-15          2   MLB722272670       0       NaT           1   \n",
            "47      2022-01-12          2   MLB980528780       0       NaT           1   \n",
            "82      2022-01-14          2  MLB1603055200       0       NaT           1   \n",
            "112     2022-01-27          4  MLB2412718380       0       NaT           1   \n",
            "132     2022-01-16          2  MLB2014154210       0       NaT           1   \n",
            "\n",
            "    activacion_dt  setup setup_dt  return   return_dt  \n",
            "30     2022-01-12      0      NaT       0         NaT  \n",
            "47     2022-01-11      0      NaT       0         NaT  \n",
            "82     2022-01-13      0      NaT       1  2022-01-20  \n",
            "112    2022-01-26      0      NaT       0         NaT  \n",
            "132    2022-01-13      0      NaT       1  2022-01-17  \n",
            "(430, 11)\n"
          ]
        }
      ]
    },
    {
      "cell_type": "code",
      "source": [
        "\n",
        "indexUsr = dfUsr[ dfUsr['max_dt'] < dfUsr['first_login_dt']].index\n",
        "dfUsrFinal = dfUsr.drop(indexUsr)\n",
        "print(dfUsrFinal.head(15))\n",
        "print(dfUsrFinal.shape)\n",
        "dfUsr.to_csv('resultado2.csv')"
      ],
      "metadata": {
        "colab": {
          "base_uri": "https://localhost:8080/"
        },
        "id": "Qso9D5yXk6PB",
        "outputId": "9af651b4-043c-419c-cfba-ea00de07fc94"
      },
      "execution_count": null,
      "outputs": [
        {
          "output_type": "stream",
          "name": "stdout",
          "text": [
            "   first_login_dt  week_year         user_id  habito   habito_dt  activacion  \\\n",
            "0      2022-01-30          4   MLB2883855850       0         NaT           1   \n",
            "1      2022-01-30          4   MLB7059024930       0         NaT           1   \n",
            "2      2022-01-07          1   MLB4163269880       0         NaT           0   \n",
            "3      2022-01-07          1   MLB7349806870       0         NaT           0   \n",
            "4      2022-01-07          1   MLB7239064190       0         NaT           1   \n",
            "6      2022-01-01         52   MLB7546352300       0         NaT           0   \n",
            "7      2022-01-16          2   MLB2785023500       0         NaT           1   \n",
            "8      2022-01-16          2   MLB8395954300       0         NaT           0   \n",
            "9      2022-01-16          2   MLB1610695500       0         NaT           1   \n",
            "10     2022-01-16          2   MLB3148290290       0         NaT           0   \n",
            "11     2022-01-16          2   MLB1633460060       0         NaT           1   \n",
            "14     2022-01-23          3   MLB5099648840       0         NaT           1   \n",
            "15     2022-01-23          3  MLB10617344660       0         NaT           1   \n",
            "16     2022-01-23          3  MLB10617979960       1  2022-02-03           1   \n",
            "17     2022-01-02         52   MLB2165710930       1  2022-01-08           1   \n",
            "\n",
            "   activacion_dt  setup    setup_dt  return   return_dt      max_dt  \n",
            "0     2022-01-30      1  2022-01-30       0         NaT  2022-01-30  \n",
            "1     2022-03-02      0         NaT       0         NaT  2022-03-02  \n",
            "2            NaT      0         NaT       1  2022-01-08  2022-01-08  \n",
            "3            NaT      0         NaT       1  2022-01-08  2022-01-08  \n",
            "4     2022-01-07      0         NaT       1  2022-01-08  2022-01-08  \n",
            "6            NaT      1  2022-01-01       1  2022-01-03  2022-01-03  \n",
            "7     2022-01-16      0         NaT       1  2022-01-17  2022-01-17  \n",
            "8            NaT      1  2022-01-16       0         NaT  2022-01-16  \n",
            "9     2022-01-16      0         NaT       0         NaT  2022-01-16  \n",
            "10           NaT      0         NaT       1  2022-01-19  2022-01-19  \n",
            "11    2022-01-16      0         NaT       1  2022-01-17  2022-01-17  \n",
            "14    2022-02-08      0         NaT       1  2022-02-08  2022-02-08  \n",
            "15    2022-01-23      1  2022-01-23       1  2022-01-26  2022-01-26  \n",
            "16    2022-01-26      1  2022-01-23       1  2022-01-25  2022-02-03  \n",
            "17    2022-01-03      1  2022-01-03       1  2022-01-03  2022-01-08  \n",
            "(8910, 12)\n"
          ]
        }
      ]
    },
    {
      "cell_type": "markdown",
      "source": [
        "# Nueva sección"
      ],
      "metadata": {
        "id": "vqNdmWrC6e9j"
      }
    }
  ]
}